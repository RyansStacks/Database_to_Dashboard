{
 "cells": [
  {
   "cell_type": "markdown",
   "id": "6dad2fb4",
   "metadata": {},
   "source": [
    "# Reference Laboratory Project - Section 2: Data Creation"
   ]
  },
  {
   "cell_type": "markdown",
   "id": "ac66cd8e",
   "metadata": {},
   "source": [
    "## Created by Ryan Breen"
   ]
  },
  {
   "cell_type": "markdown",
   "id": "3eda715a",
   "metadata": {},
   "source": [
    "Typically, data is usually produced by devices or sometimes even entered by human beings and derived by uploading, migrating, or connecting to a data source. Due to the nature of healthcare industry, the data used in the __Reference Laboratory Project__ is created using `Python`. The data is converted from dataframes to .csv files that will be then uploaded into a `PostgreSQL` database where at that point the data is imagined to be sitauted as it were in the actual business."
   ]
  },
  {
   "cell_type": "markdown",
   "id": "069abb33",
   "metadata": {},
   "source": [
    "The main premise of data creation listed in this section is to create tables with columns as attributes seen in the entity relation diagram of the __Reference Laboratory Project__. The data tables will be further normalized and 'cleaned' in the 'Logical Schema' section (next section). For now pertinent information is obtained as it were directly from the memory locations it were obtained. To make this information more human-readable' normalization, business logic, and the use of a visual/information dashboard is created to bem read by employees and customers alike corresponding to day-to-day functions encounter between the interaction of the reference laboratory and individuals."
   ]
  },
  {
   "cell_type": "markdown",
   "id": "01f9a1cf",
   "metadata": {},
   "source": [
    "All columns used in the tables below are created using random array creation from `Pandas`, `NumPy`, and `Random` Python modules. They have __all been created fictitiously__ ,but have been _synthesized_ to emulate real world data found in a reference laboratory project based on my prior experience as a technologist working in such a laboratory."
   ]
  },
  {
   "cell_type": "markdown",
   "id": "a7a11d09",
   "metadata": {},
   "source": [
    "Further tables are created by the _Database Definition Language_ using `SQL` by linking _foreign keys_, autoincrementing primary keys for these newly created tables, and using random functions in `PostgreSQL` that emulate devices such as analyzers in the lab to fill in data in these newly created tables."
   ]
  },
  {
   "cell_type": "code",
   "execution_count": 77,
   "id": "06c718f0",
   "metadata": {},
   "outputs": [],
   "source": [
    "#pip install varname"
   ]
  },
  {
   "cell_type": "markdown",
   "id": "eb4b2e19",
   "metadata": {},
   "source": [
    "__Import Libraries__:"
   ]
  },
  {
   "cell_type": "code",
   "execution_count": 2,
   "id": "5b375892",
   "metadata": {},
   "outputs": [],
   "source": [
    "import numpy as np\n",
    "from numpy import random\n",
    "import pandas as pd\n",
    "import scipy \n",
    "import random\n",
    "from varname import nameof\n",
    "import os"
   ]
  },
  {
   "cell_type": "code",
   "execution_count": 3,
   "id": "c1988462",
   "metadata": {},
   "outputs": [],
   "source": [
    "path = os.getcwd()\n",
    "csv_=path+'\\\\csv\\\\'\n",
    "data_=path+'\\\\data\\\\'\n",
    "sql_=path+'\\\\sql\\\\'"
   ]
  },
  {
   "cell_type": "markdown",
   "id": "26dc5ab0",
   "metadata": {},
   "source": [
    "The following three `Python` functions below create `SQL` scripts by utilizing the use of file creation and string formatting. All three functions are `home-brewed` functions that are used as time savers and all scripts should be checked manually for accruacy."
   ]
  },
  {
   "cell_type": "markdown",
   "id": "a5162766",
   "metadata": {},
   "source": [
    "### The following function creates the SQL script that creates the insert statements:"
   ]
  },
  {
   "cell_type": "code",
   "execution_count": 3,
   "id": "fdbdc950",
   "metadata": {},
   "outputs": [],
   "source": [
    "def INSERT(csv, sql=sql_+\"Lab_Project_DDL_INSERT.txt\"):\n",
    "    ''' 1. imports csv dataframe as .csv\n",
    "        2. converts each dataframe row to formatted string\n",
    "        3. inserts formatted string as one line of a .txt (uft-8) file\n",
    "        4. .txt(utf-8) file used as DDL INSERT statement '''\n",
    "\n",
    "    import pandas as pd\n",
    "    df = pd.read_csv(csv_+ csv + \".csv\", header=None)  # create df\n",
    "    file = open(sql, \"a\")\n",
    "    temp1 = []  # temp list to store row values\n",
    "    temp2 = []  # temp list to store entire formatted row\n",
    "    for cols in range(len(df)):\n",
    "        for rows in df:\n",
    "            if rows < (len(df.columns) - 1):  # all instances except last column are formatted as such\n",
    "                temp1.append(f\"'{df.iat[cols, rows]}',\")\n",
    "            if rows == (len(df.columns) - 1):  # when last column is reached, finish string formatting\n",
    "                start = f\"INSERT INTO {csv}\\nVALUES(\"\n",
    "                total = start + \" \".join(temp1) + f\"'{str(df.iat[cols, rows])}');\\n\"\n",
    "                temp1.clear()\n",
    "                temp2.append(total)\n",
    "                del start\n",
    "                del total\n",
    "    for t in temp2:  # place formatted string = df row as one 'line' in the file\n",
    "        print(t, file=file)"
   ]
  },
  {
   "cell_type": "markdown",
   "id": "8ddc91d6",
   "metadata": {},
   "source": [
    "### The following function creates the SQL script that creates all tables:"
   ]
  },
  {
   "cell_type": "code",
   "execution_count": 4,
   "id": "d6175d07",
   "metadata": {},
   "outputs": [],
   "source": [
    "def TABLES (name, sql=sql_+\"Lab_Project_DDL_TABLES.txt\"):\n",
    "    import pandas as pd\n",
    "    title = str(name)\n",
    "    df = eval(name)\n",
    "    from varname import nameof\n",
    "    name = nameof(df)\n",
    "    table = f\"CREATE TABLE {title}(\" \n",
    "    cols = df.columns\n",
    "    cols = cols.tolist()\n",
    "    dts = [dt for dt in df.dtypes.map(lambda x : x.name)]\n",
    "    typ = []\n",
    "    for dt in dts:\n",
    "        if dt=='int32':\n",
    "            typ.append('integer')\n",
    "        if dt=='float64':\n",
    "            typ.append('numeric')\n",
    "        if dt == 'object':\n",
    "            typ.append('varchar(50)')\n",
    "    typ[0] = 'serial'\n",
    "    last=') ;'\n",
    "    file = open(sql, \"a\")\n",
    "    print(table, file=file)\n",
    "    for c,t in zip(cols,typ):\n",
    "        print(f'\\t{c}\\t\\t\\t{t},', file=file)\n",
    "    print(f'PRIMARY KEY({cols[0]})', file=file)\n",
    "    print(last, file=file)\n",
    "    file.close()"
   ]
  },
  {
   "cell_type": "markdown",
   "id": "bf856ce2",
   "metadata": {},
   "source": [
    "### The following function creates the SQL script that creates all foreign keys:"
   ]
  },
  {
   "cell_type": "code",
   "execution_count": 5,
   "id": "dcd2eec4",
   "metadata": {},
   "outputs": [],
   "source": [
    "def FK (name, sql=sql_+'\\Lab_Project_DDL_FK.txt'):\n",
    "    import pandas as pd\n",
    "    child_table = 'child_'\n",
    "    parent_table =  str(name)\n",
    "    constraint_name = child_table+parent_table+'_fk'\n",
    "    df = eval(name)\n",
    "    cols = df.columns\n",
    "    parent_column =  cols.tolist()[0]\n",
    "    fk_column = parent_column\n",
    "    l1=f'ALTER TABLE {child_table}\\n'\n",
    "    l2=f'ADD CONSTRAINT {constraint_name}\\n'\n",
    "    l3=f'FOREIGN KEY ({fk_column})\\n'\n",
    "    l4=f'REFERENCES {parent_table} ({parent_column});'\n",
    "    l5=''\n",
    "    file = open(sql, 'a')\n",
    "    output=l1+l2+l3+l4+l5\n",
    "    print(output, file=file)\n",
    "    file.close"
   ]
  },
  {
   "cell_type": "markdown",
   "id": "3bf4e02d",
   "metadata": {},
   "source": [
    "## __Below in each section are each _raw_ Table with associated Columns__:"
   ]
  },
  {
   "cell_type": "markdown",
   "id": "12cd7242",
   "metadata": {},
   "source": [
    "Below the following dataframe is used in multiple tables. The apostrophes in each column must be remove not to conflict with the SQL script."
   ]
  },
  {
   "cell_type": "code",
   "execution_count": 3,
   "id": "8157af34",
   "metadata": {},
   "outputs": [],
   "source": [
    "address = pd.read_csv(data_+'cities.csv') \n",
    "address.City = address.City.str.replace(\"'\",\"^\")"
   ]
  },
  {
   "cell_type": "markdown",
   "id": "5ec0da46",
   "metadata": {},
   "source": [
    "### Address  (n=50100)\n",
    "50000 customers and 100 employees"
   ]
  },
  {
   "cell_type": "code",
   "execution_count": 9,
   "id": "b5c54ea8",
   "metadata": {},
   "outputs": [],
   "source": [
    "# Let one column contain the city, state, and gps coordinate\n",
    "\n",
    "address_id = np.arange(10000000,10050100,1)\n",
    "\n",
    "nums = [i for i in np.random.randint(1,9999,50100)] ### EXCLUDE ###\n",
    "plants = pd.read_csv(data_+'plants.csv', header=None).loc[:,0].to_list() ### EXCLUDE ###\n",
    "plants = random.choices(plants, k = 50100)\n",
    "suffices = ['Street', 'Road', 'Way', 'Avenue', 'Lane'] * 10020 ### EXCLUDE ###\n",
    "street = [f'{i} {j.title()} {k}' for i,j,k in zip(nums, plants, suffices)]\n",
    "\n",
    "# NOTE - # address of Employees for 5 lab locations = first five cities\n",
    "\n",
    "city1 = address.City.to_list() * 50\n",
    "city2 = address.City.head().to_list() * 20 # Employees\n",
    "city =  city1 + city2\n",
    "\n",
    "\n",
    "state1 = address.State.to_list() * 50\n",
    "state2 = address.State.head().to_list() * 20 # Employees\n",
    "state = state1 + state2\n",
    "\n",
    "lat1 = address.lat.to_list() * 50\n",
    "lat2 = address.lat.head().to_list() * 20 # Employees\n",
    "lat =  lat1 + lat2\n",
    "\n",
    "lon1 = address.lon.to_list() * 50\n",
    "lon2 = address.lon.head().to_list() * 20 # Employees\n",
    "lon =  lon1 + lon2\n",
    "\n",
    "addresses = list(zip(address_id, street, city, state, lat, lon))"
   ]
  },
  {
   "cell_type": "code",
   "execution_count": 11,
   "id": "b144096d",
   "metadata": {},
   "outputs": [
    {
     "data": {
      "text/html": [
       "<div>\n",
       "<style scoped>\n",
       "    .dataframe tbody tr th:only-of-type {\n",
       "        vertical-align: middle;\n",
       "    }\n",
       "\n",
       "    .dataframe tbody tr th {\n",
       "        vertical-align: top;\n",
       "    }\n",
       "\n",
       "    .dataframe thead th {\n",
       "        text-align: right;\n",
       "    }\n",
       "</style>\n",
       "<table border=\"1\" class=\"dataframe\">\n",
       "  <thead>\n",
       "    <tr style=\"text-align: right;\">\n",
       "      <th></th>\n",
       "      <th>address_id</th>\n",
       "      <th>street</th>\n",
       "      <th>city</th>\n",
       "      <th>state</th>\n",
       "      <th>lat</th>\n",
       "      <th>lon</th>\n",
       "    </tr>\n",
       "  </thead>\n",
       "  <tbody>\n",
       "    <tr>\n",
       "      <th>50095</th>\n",
       "      <td>10050095</td>\n",
       "      <td>25 Poison Flower Street</td>\n",
       "      <td>Marysville</td>\n",
       "      <td>Washington</td>\n",
       "      <td>48.051764</td>\n",
       "      <td>-122.177082</td>\n",
       "    </tr>\n",
       "    <tr>\n",
       "      <th>50096</th>\n",
       "      <td>10050096</td>\n",
       "      <td>586 Strawberry Road</td>\n",
       "      <td>Perris</td>\n",
       "      <td>California</td>\n",
       "      <td>33.782519</td>\n",
       "      <td>-117.228648</td>\n",
       "    </tr>\n",
       "    <tr>\n",
       "      <th>50097</th>\n",
       "      <td>10050097</td>\n",
       "      <td>1069 Silver Leaf Maple Way</td>\n",
       "      <td>Cleveland</td>\n",
       "      <td>Ohio</td>\n",
       "      <td>41.499320</td>\n",
       "      <td>-81.694361</td>\n",
       "    </tr>\n",
       "    <tr>\n",
       "      <th>50098</th>\n",
       "      <td>10050098</td>\n",
       "      <td>1356 Scotch Cap Avenue</td>\n",
       "      <td>Worcester</td>\n",
       "      <td>Massachusetts</td>\n",
       "      <td>42.262593</td>\n",
       "      <td>-71.802293</td>\n",
       "    </tr>\n",
       "    <tr>\n",
       "      <th>50099</th>\n",
       "      <td>10050099</td>\n",
       "      <td>3805 Yellow Rocket Lane</td>\n",
       "      <td>Columbia</td>\n",
       "      <td>South Carolina</td>\n",
       "      <td>34.000710</td>\n",
       "      <td>-81.034814</td>\n",
       "    </tr>\n",
       "  </tbody>\n",
       "</table>\n",
       "</div>"
      ],
      "text/plain": [
       "       address_id                      street        city           state  \\\n",
       "50095    10050095     25 Poison Flower Street  Marysville      Washington   \n",
       "50096    10050096         586 Strawberry Road      Perris      California   \n",
       "50097    10050097  1069 Silver Leaf Maple Way   Cleveland            Ohio   \n",
       "50098    10050098      1356 Scotch Cap Avenue   Worcester   Massachusetts   \n",
       "50099    10050099     3805 Yellow Rocket Lane    Columbia  South Carolina   \n",
       "\n",
       "             lat         lon  \n",
       "50095  48.051764 -122.177082  \n",
       "50096  33.782519 -117.228648  \n",
       "50097  41.499320  -81.694361  \n",
       "50098  42.262593  -71.802293  \n",
       "50099  34.000710  -81.034814  "
      ]
     },
     "execution_count": 11,
     "metadata": {},
     "output_type": "execute_result"
    }
   ],
   "source": [
    "### CREATE DATAFRAME\n",
    "Addresses = pd.DataFrame(addresses, columns=['address_id','street', 'city', 'state', 'lat', \n",
    "                                             'lon'])\n",
    "Addresses.to_csv(csv_+'Addresses.csv', header = None, index = False)\n",
    "Addresses.tail()"
   ]
  },
  {
   "cell_type": "code",
   "execution_count": 86,
   "id": "fb447ba7",
   "metadata": {},
   "outputs": [],
   "source": [
    "INSERT('Addresses')\n",
    "TABLES('Addresses')\n",
    "FK('Addresses')"
   ]
  },
  {
   "cell_type": "code",
   "execution_count": 87,
   "id": "fe737e3a",
   "metadata": {},
   "outputs": [
    {
     "data": {
      "text/plain": [
       "50100"
      ]
     },
     "execution_count": 87,
     "metadata": {},
     "output_type": "execute_result"
    }
   ],
   "source": [
    "len(Addresses)"
   ]
  },
  {
   "cell_type": "markdown",
   "id": "60ef9acb",
   "metadata": {},
   "source": [
    "### Customers (n=50000)"
   ]
  },
  {
   "cell_type": "code",
   "execution_count": 4,
   "id": "26e5f3ca",
   "metadata": {
    "scrolled": true
   },
   "outputs": [],
   "source": [
    "#People - 50,000 people throughout United States\n",
    "customer_id = np.arange(10000000,10050100,1)[:50000]\n",
    "\n",
    "address_id = np.arange(10000000,10050100,1)\n",
    "\n",
    "# Import tree names to represent street names\n",
    "# DOB \n",
    "month = [i for i in np.random.randint(1,12,50000)] ### EXCLUDE ###\n",
    "day = [i for i in np.random.randint(1,28,50000)] ### EXCLUDE ###\n",
    "year = [i for i in np.random.randint(1920,2020, 50000)] ### EXCLUDE ###\n",
    "\n",
    "dob = [f'{i}/{j}/{k}' for i,j,k in zip (month,day, year)]\n",
    "gender = random.choices(['Female','Male'], k = 50000)\n",
    "race = random.choices(['African American','Caucasian', 'Hispanic', 'Asian'], \n",
    "                      weights=[8000,30000,8000,4000], \n",
    "                      k = 50000)\n",
    "\n",
    "spanish = random.choices(['yes','no'], weights=[5000,45000], k = 50000)\n",
    "\n",
    "english  = random.choices(['yes','no'], weights=[500,45500], k = 50000)\n",
    "\n",
    "married = random.choices(['yes','no'], weights=[45000, 5000],k = 50000)\n",
    "\n",
    "insurance = random.choices(['private','public','none'], \n",
    "                           weights=[30000,10000,10000], k = 50000)\n",
    "\n",
    "customers = list(zip(customer_id, address_id, dob, gender, race, \n",
    "                     spanish, english, married, insurance))"
   ]
  },
  {
   "cell_type": "code",
   "execution_count": 5,
   "id": "1f1a92e7",
   "metadata": {},
   "outputs": [
    {
     "data": {
      "text/html": [
       "<div>\n",
       "<style scoped>\n",
       "    .dataframe tbody tr th:only-of-type {\n",
       "        vertical-align: middle;\n",
       "    }\n",
       "\n",
       "    .dataframe tbody tr th {\n",
       "        vertical-align: top;\n",
       "    }\n",
       "\n",
       "    .dataframe thead th {\n",
       "        text-align: right;\n",
       "    }\n",
       "</style>\n",
       "<table border=\"1\" class=\"dataframe\">\n",
       "  <thead>\n",
       "    <tr style=\"text-align: right;\">\n",
       "      <th></th>\n",
       "      <th>customer_id</th>\n",
       "      <th>address_id</th>\n",
       "      <th>dob</th>\n",
       "      <th>gender</th>\n",
       "      <th>race</th>\n",
       "      <th>spanish_lang</th>\n",
       "      <th>english_only</th>\n",
       "      <th>marital_status</th>\n",
       "      <th>insurance</th>\n",
       "    </tr>\n",
       "  </thead>\n",
       "  <tbody>\n",
       "    <tr>\n",
       "      <th>0</th>\n",
       "      <td>10000000</td>\n",
       "      <td>10000000</td>\n",
       "      <td>1/19/1974</td>\n",
       "      <td>Female</td>\n",
       "      <td>Caucasian</td>\n",
       "      <td>no</td>\n",
       "      <td>no</td>\n",
       "      <td>yes</td>\n",
       "      <td>public</td>\n",
       "    </tr>\n",
       "    <tr>\n",
       "      <th>1</th>\n",
       "      <td>10000001</td>\n",
       "      <td>10000001</td>\n",
       "      <td>4/16/1980</td>\n",
       "      <td>Female</td>\n",
       "      <td>Caucasian</td>\n",
       "      <td>no</td>\n",
       "      <td>no</td>\n",
       "      <td>yes</td>\n",
       "      <td>private</td>\n",
       "    </tr>\n",
       "    <tr>\n",
       "      <th>2</th>\n",
       "      <td>10000002</td>\n",
       "      <td>10000002</td>\n",
       "      <td>5/3/1962</td>\n",
       "      <td>Male</td>\n",
       "      <td>Caucasian</td>\n",
       "      <td>no</td>\n",
       "      <td>yes</td>\n",
       "      <td>yes</td>\n",
       "      <td>none</td>\n",
       "    </tr>\n",
       "    <tr>\n",
       "      <th>3</th>\n",
       "      <td>10000003</td>\n",
       "      <td>10000003</td>\n",
       "      <td>2/22/1931</td>\n",
       "      <td>Female</td>\n",
       "      <td>Caucasian</td>\n",
       "      <td>no</td>\n",
       "      <td>no</td>\n",
       "      <td>yes</td>\n",
       "      <td>private</td>\n",
       "    </tr>\n",
       "    <tr>\n",
       "      <th>4</th>\n",
       "      <td>10000004</td>\n",
       "      <td>10000004</td>\n",
       "      <td>4/15/2008</td>\n",
       "      <td>Male</td>\n",
       "      <td>Hispanic</td>\n",
       "      <td>no</td>\n",
       "      <td>no</td>\n",
       "      <td>yes</td>\n",
       "      <td>private</td>\n",
       "    </tr>\n",
       "  </tbody>\n",
       "</table>\n",
       "</div>"
      ],
      "text/plain": [
       "   customer_id  address_id        dob  gender       race spanish_lang  \\\n",
       "0     10000000    10000000  1/19/1974  Female  Caucasian           no   \n",
       "1     10000001    10000001  4/16/1980  Female  Caucasian           no   \n",
       "2     10000002    10000002   5/3/1962    Male  Caucasian           no   \n",
       "3     10000003    10000003  2/22/1931  Female  Caucasian           no   \n",
       "4     10000004    10000004  4/15/2008    Male   Hispanic           no   \n",
       "\n",
       "  english_only marital_status insurance  \n",
       "0           no            yes    public  \n",
       "1           no            yes   private  \n",
       "2          yes            yes      none  \n",
       "3           no            yes   private  \n",
       "4           no            yes   private  "
      ]
     },
     "execution_count": 5,
     "metadata": {},
     "output_type": "execute_result"
    }
   ],
   "source": [
    "### CREATE DATAFRAME\n",
    "Customers = pd.DataFrame(customers, columns=['customer_id','address_id',\n",
    "                                               'dob', 'gender', 'race',\n",
    "                                            'spanish_lang','english_only',\n",
    "                                            'marital_status', 'insurance'])\n",
    "Customers.to_csv(csv_+'Customers.csv', header = None, index = False)\n",
    "Customers.head()"
   ]
  },
  {
   "cell_type": "code",
   "execution_count": 90,
   "id": "3f58031e",
   "metadata": {
    "scrolled": true
   },
   "outputs": [],
   "source": [
    "INSERT('Customers')\n",
    "TABLES('Customers')\n",
    "FK('Customers')"
   ]
  },
  {
   "cell_type": "code",
   "execution_count": 91,
   "id": "7de69ed7",
   "metadata": {
    "scrolled": true
   },
   "outputs": [
    {
     "data": {
      "text/plain": [
       "50000"
      ]
     },
     "execution_count": 91,
     "metadata": {},
     "output_type": "execute_result"
    }
   ],
   "source": [
    "len(Customers)"
   ]
  },
  {
   "cell_type": "code",
   "execution_count": 24,
   "id": "fb7abda3",
   "metadata": {},
   "outputs": [
    {
     "data": {
      "text/plain": [
       "50000"
      ]
     },
     "execution_count": 24,
     "metadata": {},
     "output_type": "execute_result"
    }
   ],
   "source": [
    "weights=[1000,6000,5000,8000,9000,\n",
    "         8000,7000,4000,1000,1000]\n",
    "sum(weights)"
   ]
  },
  {
   "cell_type": "markdown",
   "id": "229e6559",
   "metadata": {},
   "source": [
    "### Customer_Surveys (n=25000)"
   ]
  },
  {
   "cell_type": "code",
   "execution_count": 25,
   "id": "e59076c2",
   "metadata": {},
   "outputs": [],
   "source": [
    "#Customer Survey - Monthly survey of customers scale 1-10\n",
    "survey_id = np.arange(10000000,10025000,1)\n",
    "\n",
    "customer_id = np.arange(10000000,10050000,1)\n",
    "\n",
    "date = pd.date_range('2021-01-01','2021-12-31').strftime(\"%m/%d/%Y\").tolist()\n",
    "dates = random.choices(date, k = 25000)\n",
    "\n",
    "courteous = random.choices(list(range(1,11)), \n",
    "                           weights=[1000,2000,3000,8000,\n",
    "                                   8000,8000,6000,8000,3000,3000], \n",
    "                           k= 50000)\n",
    "\n",
    "schedule = random.choices(list(range(1,11)), \n",
    "                            weights=[1000,7000,4000,8000,5000,\n",
    "                                    8000,3000,8000,5000,1000]\n",
    "                          ,k= 50000)\n",
    "\n",
    "costs = random.choices(list(range(1,11)), \n",
    "                            weights=[1000,1000,2000,5000,8000,9000,\n",
    "                                     8000,5000,6000,5000]\n",
    "                         ,k= 50000)\n",
    "\n",
    "delivery = random.choices(list(range(1,11)), \n",
    "                            weights=[1000,2000,5000,8000,9000,\n",
    "                                     8000,5000,6000,5000,1000]\n",
    "                          ,k= 50000)\n",
    "\n",
    "overall = random.choices(list(range(1,11)), \n",
    "                            weights=[1000,6000,5000,8000,9000,\n",
    "                                     8000,7000,4000,1000,1000]\n",
    "                         ,k= 50000)\n",
    "\n",
    "customer_surveys = list(zip(survey_id, customer_id, dates, courteous, schedule,\n",
    "                            costs, delivery, overall))"
   ]
  },
  {
   "cell_type": "code",
   "execution_count": 26,
   "id": "3db32568",
   "metadata": {
    "scrolled": true
   },
   "outputs": [
    {
     "data": {
      "text/html": [
       "<div>\n",
       "<style scoped>\n",
       "    .dataframe tbody tr th:only-of-type {\n",
       "        vertical-align: middle;\n",
       "    }\n",
       "\n",
       "    .dataframe tbody tr th {\n",
       "        vertical-align: top;\n",
       "    }\n",
       "\n",
       "    .dataframe thead th {\n",
       "        text-align: right;\n",
       "    }\n",
       "</style>\n",
       "<table border=\"1\" class=\"dataframe\">\n",
       "  <thead>\n",
       "    <tr style=\"text-align: right;\">\n",
       "      <th></th>\n",
       "      <th>survey_id</th>\n",
       "      <th>customer_id</th>\n",
       "      <th>dates</th>\n",
       "      <th>courteous</th>\n",
       "      <th>schedule</th>\n",
       "      <th>costs</th>\n",
       "      <th>delivery</th>\n",
       "      <th>overall</th>\n",
       "    </tr>\n",
       "  </thead>\n",
       "  <tbody>\n",
       "    <tr>\n",
       "      <th>0</th>\n",
       "      <td>10000000</td>\n",
       "      <td>10000000</td>\n",
       "      <td>10/25/2021</td>\n",
       "      <td>7</td>\n",
       "      <td>4</td>\n",
       "      <td>7</td>\n",
       "      <td>6</td>\n",
       "      <td>6</td>\n",
       "    </tr>\n",
       "    <tr>\n",
       "      <th>1</th>\n",
       "      <td>10000001</td>\n",
       "      <td>10000001</td>\n",
       "      <td>05/20/2021</td>\n",
       "      <td>8</td>\n",
       "      <td>3</td>\n",
       "      <td>9</td>\n",
       "      <td>5</td>\n",
       "      <td>7</td>\n",
       "    </tr>\n",
       "    <tr>\n",
       "      <th>2</th>\n",
       "      <td>10000002</td>\n",
       "      <td>10000002</td>\n",
       "      <td>03/04/2021</td>\n",
       "      <td>10</td>\n",
       "      <td>8</td>\n",
       "      <td>5</td>\n",
       "      <td>7</td>\n",
       "      <td>2</td>\n",
       "    </tr>\n",
       "    <tr>\n",
       "      <th>3</th>\n",
       "      <td>10000003</td>\n",
       "      <td>10000003</td>\n",
       "      <td>10/20/2021</td>\n",
       "      <td>1</td>\n",
       "      <td>5</td>\n",
       "      <td>8</td>\n",
       "      <td>9</td>\n",
       "      <td>7</td>\n",
       "    </tr>\n",
       "    <tr>\n",
       "      <th>4</th>\n",
       "      <td>10000004</td>\n",
       "      <td>10000004</td>\n",
       "      <td>08/16/2021</td>\n",
       "      <td>6</td>\n",
       "      <td>8</td>\n",
       "      <td>9</td>\n",
       "      <td>3</td>\n",
       "      <td>8</td>\n",
       "    </tr>\n",
       "  </tbody>\n",
       "</table>\n",
       "</div>"
      ],
      "text/plain": [
       "   survey_id  customer_id       dates  courteous  schedule  costs  delivery  \\\n",
       "0   10000000     10000000  10/25/2021          7         4      7         6   \n",
       "1   10000001     10000001  05/20/2021          8         3      9         5   \n",
       "2   10000002     10000002  03/04/2021         10         8      5         7   \n",
       "3   10000003     10000003  10/20/2021          1         5      8         9   \n",
       "4   10000004     10000004  08/16/2021          6         8      9         3   \n",
       "\n",
       "   overall  \n",
       "0        6  \n",
       "1        7  \n",
       "2        2  \n",
       "3        7  \n",
       "4        8  "
      ]
     },
     "execution_count": 26,
     "metadata": {},
     "output_type": "execute_result"
    }
   ],
   "source": [
    "### CREATE DATAFRAME\n",
    "Customer_Surveys = pd.DataFrame(customer_surveys, columns=['survey_id', 'customer_id', \n",
    "                                                         'dates', 'courteous', 'schedule', \n",
    "                                             'costs', 'delivery', 'overall'])\n",
    "Customer_Surveys.to_csv(csv_+'Customer_Surveys.csv', header = None, index = False)\n",
    "Customer_Surveys.head()"
   ]
  },
  {
   "cell_type": "code",
   "execution_count": 94,
   "id": "23b3000e",
   "metadata": {},
   "outputs": [],
   "source": [
    "INSERT('Customer_Surveys')\n",
    "TABLES('Customer_Surveys')\n",
    "FK('Customer_Surveys')"
   ]
  },
  {
   "cell_type": "code",
   "execution_count": 95,
   "id": "7ef6af83",
   "metadata": {
    "scrolled": true
   },
   "outputs": [
    {
     "data": {
      "text/plain": [
       "25000"
      ]
     },
     "execution_count": 95,
     "metadata": {},
     "output_type": "execute_result"
    }
   ],
   "source": [
    "len(Customer_Surveys)"
   ]
  },
  {
   "cell_type": "markdown",
   "id": "f65da599",
   "metadata": {},
   "source": [
    "### Laboratories (n=5)"
   ]
  },
  {
   "cell_type": "code",
   "execution_count": 96,
   "id": "d50dd621",
   "metadata": {},
   "outputs": [],
   "source": [
    "#Labs -  5 labs locations throughout United States\n",
    "lab_id= np.arange(100,105,1)\n",
    "\n",
    "# Lab names\n",
    "names = ['Main Lab', 'Central Lab', 'North Lab', 'Downtown Lab', 'East Lab'] \n",
    "\n",
    "# Let one column contain the city, state, and gps coordinate\n",
    "nums = [i for i in np.random.randint(1,9999,50000)][:5] ### EXCLUDE ###\n",
    "plants = pd.read_csv(data_+'plants.csv', header=None).loc[:5,0].to_list() ### EXCLUDE ###\n",
    "suffices = ['Street', 'Road', 'Way', 'Avenue', 'Lane'] ### EXCLUDE ###\n",
    "street = [f'{i} {j.title()} {k}' for i,j,k in zip(nums, plants, suffices)] \n",
    "\n",
    "address = pd.read_csv(data_+'cities.csv')### EXCLUDE ###\n",
    "city = address.City.to_list()[:5]\n",
    "\n",
    "state = address.State.to_list()[:5]\n",
    "\n",
    "lat = address.lat.to_list()[:5]\n",
    "\n",
    "lon = address.lon.to_list()[:5]\n",
    "\n",
    "laboratories = list(zip(lab_id, names, street, city, state, lat, lon))"
   ]
  },
  {
   "cell_type": "code",
   "execution_count": 97,
   "id": "1eaacb83",
   "metadata": {
    "scrolled": false
   },
   "outputs": [
    {
     "data": {
      "text/html": [
       "<div>\n",
       "<style scoped>\n",
       "    .dataframe tbody tr th:only-of-type {\n",
       "        vertical-align: middle;\n",
       "    }\n",
       "\n",
       "    .dataframe tbody tr th {\n",
       "        vertical-align: top;\n",
       "    }\n",
       "\n",
       "    .dataframe thead th {\n",
       "        text-align: right;\n",
       "    }\n",
       "</style>\n",
       "<table border=\"1\" class=\"dataframe\">\n",
       "  <thead>\n",
       "    <tr style=\"text-align: right;\">\n",
       "      <th></th>\n",
       "      <th>lab_id</th>\n",
       "      <th>names</th>\n",
       "      <th>street</th>\n",
       "      <th>city</th>\n",
       "      <th>state</th>\n",
       "      <th>lat</th>\n",
       "      <th>lon</th>\n",
       "    </tr>\n",
       "  </thead>\n",
       "  <tbody>\n",
       "    <tr>\n",
       "      <th>0</th>\n",
       "      <td>100</td>\n",
       "      <td>Main Lab</td>\n",
       "      <td>5181 Alder Street</td>\n",
       "      <td>Marysville</td>\n",
       "      <td>Washington</td>\n",
       "      <td>48.051764</td>\n",
       "      <td>-122.177082</td>\n",
       "    </tr>\n",
       "    <tr>\n",
       "      <th>1</th>\n",
       "      <td>101</td>\n",
       "      <td>Central Lab</td>\n",
       "      <td>8286 African Rice Road</td>\n",
       "      <td>Perris</td>\n",
       "      <td>California</td>\n",
       "      <td>33.782519</td>\n",
       "      <td>-117.228648</td>\n",
       "    </tr>\n",
       "    <tr>\n",
       "      <th>2</th>\n",
       "      <td>102</td>\n",
       "      <td>North Lab</td>\n",
       "      <td>4288 African Violet Way</td>\n",
       "      <td>Cleveland</td>\n",
       "      <td>Ohio</td>\n",
       "      <td>41.499320</td>\n",
       "      <td>-81.694361</td>\n",
       "    </tr>\n",
       "    <tr>\n",
       "      <th>3</th>\n",
       "      <td>103</td>\n",
       "      <td>Downtown Lab</td>\n",
       "      <td>9734 Algerian Oak Quercus Avenue</td>\n",
       "      <td>Worcester</td>\n",
       "      <td>Massachusetts</td>\n",
       "      <td>42.262593</td>\n",
       "      <td>-71.802293</td>\n",
       "    </tr>\n",
       "    <tr>\n",
       "      <th>4</th>\n",
       "      <td>104</td>\n",
       "      <td>East Lab</td>\n",
       "      <td>4818 Almond Lane</td>\n",
       "      <td>Columbia</td>\n",
       "      <td>South Carolina</td>\n",
       "      <td>34.000710</td>\n",
       "      <td>-81.034814</td>\n",
       "    </tr>\n",
       "  </tbody>\n",
       "</table>\n",
       "</div>"
      ],
      "text/plain": [
       "   lab_id         names                            street        city  \\\n",
       "0     100      Main Lab                 5181 Alder Street  Marysville   \n",
       "1     101   Central Lab            8286 African Rice Road      Perris   \n",
       "2     102     North Lab           4288 African Violet Way   Cleveland   \n",
       "3     103  Downtown Lab  9734 Algerian Oak Quercus Avenue   Worcester   \n",
       "4     104      East Lab                  4818 Almond Lane    Columbia   \n",
       "\n",
       "            state        lat         lon  \n",
       "0      Washington  48.051764 -122.177082  \n",
       "1      California  33.782519 -117.228648  \n",
       "2            Ohio  41.499320  -81.694361  \n",
       "3   Massachusetts  42.262593  -71.802293  \n",
       "4  South Carolina  34.000710  -81.034814  "
      ]
     },
     "execution_count": 97,
     "metadata": {},
     "output_type": "execute_result"
    }
   ],
   "source": [
    "### CREATE DATAFRAME\n",
    "Laboratories = pd.DataFrame(laboratories, columns=['lab_id', 'names', 'street', 'city',' state', \n",
    "                                                   'lat', 'lon'])\n",
    "Laboratories.to_csv(csv_+'Laboratories.csv', header = None, index = False)\n",
    "Laboratories.head()"
   ]
  },
  {
   "cell_type": "code",
   "execution_count": 98,
   "id": "73085ff5",
   "metadata": {},
   "outputs": [],
   "source": [
    "INSERT('Laboratories')\n",
    "TABLES('Laboratories')\n",
    "FK('Laboratories')"
   ]
  },
  {
   "cell_type": "code",
   "execution_count": 99,
   "id": "6031cc1f",
   "metadata": {
    "scrolled": true
   },
   "outputs": [
    {
     "data": {
      "text/plain": [
       "5"
      ]
     },
     "execution_count": 99,
     "metadata": {},
     "output_type": "execute_result"
    }
   ],
   "source": [
    "len(Laboratories)"
   ]
  },
  {
   "cell_type": "markdown",
   "id": "944f4f2b",
   "metadata": {},
   "source": [
    "### Expenses (n=60)\n",
    "12 monthly reports for 5 different labs"
   ]
  },
  {
   "cell_type": "code",
   "execution_count": 100,
   "id": "c31e84f3",
   "metadata": {},
   "outputs": [],
   "source": [
    "#Lab Operation - 12 bills for each month\n",
    "group_id = np.arange(10000,10060,1)\n",
    "lab_id= [100]*12+[101]*12+[102]*12+[103]*12+[104]*12\n",
    "month = pd.date_range('2021-01-01','2021-12-31', \n",
    "              freq='MS').strftime(\"%b\").tolist()*6\n",
    "electric = np.random.normal(500,10,60).round(2)\n",
    "water = np.random.normal(300,10,60).round(2)\n",
    "waste = np.random.normal(600,10,60).round(2)\n",
    "\n",
    "expenses = list(zip(group_id, lab_id, month, \n",
    "                    electric, water, waste))"
   ]
  },
  {
   "cell_type": "code",
   "execution_count": 101,
   "id": "fb4d8438",
   "metadata": {},
   "outputs": [
    {
     "data": {
      "text/html": [
       "<div>\n",
       "<style scoped>\n",
       "    .dataframe tbody tr th:only-of-type {\n",
       "        vertical-align: middle;\n",
       "    }\n",
       "\n",
       "    .dataframe tbody tr th {\n",
       "        vertical-align: top;\n",
       "    }\n",
       "\n",
       "    .dataframe thead th {\n",
       "        text-align: right;\n",
       "    }\n",
       "</style>\n",
       "<table border=\"1\" class=\"dataframe\">\n",
       "  <thead>\n",
       "    <tr style=\"text-align: right;\">\n",
       "      <th></th>\n",
       "      <th>group_id</th>\n",
       "      <th>lab_id</th>\n",
       "      <th>month</th>\n",
       "      <th>electric</th>\n",
       "      <th>water</th>\n",
       "      <th>waste</th>\n",
       "    </tr>\n",
       "  </thead>\n",
       "  <tbody>\n",
       "    <tr>\n",
       "      <th>0</th>\n",
       "      <td>10000</td>\n",
       "      <td>100</td>\n",
       "      <td>Jan</td>\n",
       "      <td>511.25</td>\n",
       "      <td>296.55</td>\n",
       "      <td>617.14</td>\n",
       "    </tr>\n",
       "    <tr>\n",
       "      <th>1</th>\n",
       "      <td>10001</td>\n",
       "      <td>100</td>\n",
       "      <td>Feb</td>\n",
       "      <td>493.58</td>\n",
       "      <td>301.71</td>\n",
       "      <td>605.55</td>\n",
       "    </tr>\n",
       "    <tr>\n",
       "      <th>2</th>\n",
       "      <td>10002</td>\n",
       "      <td>100</td>\n",
       "      <td>Mar</td>\n",
       "      <td>494.20</td>\n",
       "      <td>289.40</td>\n",
       "      <td>604.74</td>\n",
       "    </tr>\n",
       "    <tr>\n",
       "      <th>3</th>\n",
       "      <td>10003</td>\n",
       "      <td>100</td>\n",
       "      <td>Apr</td>\n",
       "      <td>497.57</td>\n",
       "      <td>299.09</td>\n",
       "      <td>604.79</td>\n",
       "    </tr>\n",
       "    <tr>\n",
       "      <th>4</th>\n",
       "      <td>10004</td>\n",
       "      <td>100</td>\n",
       "      <td>May</td>\n",
       "      <td>486.51</td>\n",
       "      <td>304.73</td>\n",
       "      <td>604.39</td>\n",
       "    </tr>\n",
       "  </tbody>\n",
       "</table>\n",
       "</div>"
      ],
      "text/plain": [
       "   group_id  lab_id month  electric   water   waste\n",
       "0     10000     100   Jan    511.25  296.55  617.14\n",
       "1     10001     100   Feb    493.58  301.71  605.55\n",
       "2     10002     100   Mar    494.20  289.40  604.74\n",
       "3     10003     100   Apr    497.57  299.09  604.79\n",
       "4     10004     100   May    486.51  304.73  604.39"
      ]
     },
     "execution_count": 101,
     "metadata": {},
     "output_type": "execute_result"
    }
   ],
   "source": [
    "### CREATE DATAFRAME\n",
    "Expenses = pd.DataFrame(expenses, columns=['group_id', 'lab_id', 'month', 'electric', 'water', 'waste'])\n",
    "Expenses.to_csv(csv_+'Expenses.csv', header = None, index = False)\n",
    "Expenses.head()"
   ]
  },
  {
   "cell_type": "code",
   "execution_count": 102,
   "id": "f2ca2f48",
   "metadata": {},
   "outputs": [],
   "source": [
    "INSERT('Expenses')\n",
    "TABLES('Expenses')\n",
    "FK('Expenses')"
   ]
  },
  {
   "cell_type": "code",
   "execution_count": 103,
   "id": "42f466d6",
   "metadata": {
    "scrolled": true
   },
   "outputs": [
    {
     "data": {
      "text/plain": [
       "60"
      ]
     },
     "execution_count": 103,
     "metadata": {},
     "output_type": "execute_result"
    }
   ],
   "source": [
    "len(Expenses)"
   ]
  },
  {
   "cell_type": "markdown",
   "id": "9b6c3b75",
   "metadata": {},
   "source": [
    "### Employees (n=100)"
   ]
  },
  {
   "cell_type": "code",
   "execution_count": 3,
   "id": "d0a329ac",
   "metadata": {},
   "outputs": [],
   "source": [
    "#Employment Info - 100 employees representing admin, techs, assistants, security, custodians, hr\n",
    "employee_id = np.arange(10000000,10000100,1)\n",
    " \n",
    "address_id = np.arange(10050000,10050100,1)\n",
    "\n",
    "lab_id = random.choices([100,101,102,103,104],k=100)\n",
    "\n",
    "first = [f'{chr(i)}***' for i in np.random.randint(65,90,50000)]\n",
    "\n",
    "last = [f'{chr(i)}***' for i in np.random.randint(65,90,50000)]\n",
    "\n",
    "position = ['Manager']*5+['Techs']*30+['Plebs']*30+['Inventory']*10+['Security']*25\n",
    "\n",
    "manager_salary = np.random.normal(100000,10,5).round(2).tolist()\n",
    "tech_salary = np.random.normal(60000,10,30).round(2).tolist()\n",
    "phleb_salary = np.random.normal(40000,10,30).round(2).tolist()\n",
    "inventory_salary = np.random.normal(65000,10,10).round(2).tolist()\n",
    "security_salary = np.random.normal(45000,10,25).round(2).tolist()\n",
    "salary =  manager_salary + tech_salary + phleb_salary + inventory_salary + security_salary\n",
    "\n",
    "certified =  ['Yes']*5+['Yes']*20+['No']*10+['Yes']*25+['No']*5+['Yes']*35\n",
    "\n",
    "month1 = [i for i in np.random.randint(1,12,100)]\n",
    "day1 = [i for i in np.random.randint(1,28,100)]\n",
    "year1 = [i for i in np.random.randint(1960,2000,100)]\n",
    "dob = [f'{i}/{j}/{k}' for i,j,k in zip (month1,day1, year1)]\n",
    "\n",
    "# hire dates\n",
    "hired = [pd.to_datetime(i) + pd.Timedelta(weeks=1092) for i in dob]\n",
    "hired = [i.strftime(\"%m/%d/%Y\") for i in hired]\n",
    "\n",
    "gender = random.choices(['Female','Male'], weights=[80,20],\n",
    "                        k = 100)\n",
    "race = random.choices(['African American','Caucasian', 'Hispanic', 'Asian'],\n",
    "                      weights = [20, 50, 10, 20],k = 100)\n",
    "employees = list(zip(employee_id, address_id, lab_id, first, last, position, \n",
    "                    salary,certified, dob,hired, \n",
    "                    gender, race))"
   ]
  },
  {
   "cell_type": "code",
   "execution_count": 34,
   "id": "1b751771",
   "metadata": {
    "scrolled": true
   },
   "outputs": [
    {
     "data": {
      "text/html": [
       "<div>\n",
       "<style scoped>\n",
       "    .dataframe tbody tr th:only-of-type {\n",
       "        vertical-align: middle;\n",
       "    }\n",
       "\n",
       "    .dataframe tbody tr th {\n",
       "        vertical-align: top;\n",
       "    }\n",
       "\n",
       "    .dataframe thead th {\n",
       "        text-align: right;\n",
       "    }\n",
       "</style>\n",
       "<table border=\"1\" class=\"dataframe\">\n",
       "  <thead>\n",
       "    <tr style=\"text-align: right;\">\n",
       "      <th></th>\n",
       "      <th>employee_id</th>\n",
       "      <th>address_id</th>\n",
       "      <th>lab_id</th>\n",
       "      <th>first</th>\n",
       "      <th>last</th>\n",
       "      <th>position</th>\n",
       "      <th>salary</th>\n",
       "      <th>certified</th>\n",
       "      <th>dob</th>\n",
       "      <th>hired</th>\n",
       "      <th>gender</th>\n",
       "      <th>race</th>\n",
       "    </tr>\n",
       "  </thead>\n",
       "  <tbody>\n",
       "    <tr>\n",
       "      <th>0</th>\n",
       "      <td>10000000</td>\n",
       "      <td>10050000</td>\n",
       "      <td>104</td>\n",
       "      <td>F***</td>\n",
       "      <td>O***</td>\n",
       "      <td>Manager</td>\n",
       "      <td>99980.49</td>\n",
       "      <td>Yes</td>\n",
       "      <td>11/6/1960</td>\n",
       "      <td>10/11/1981</td>\n",
       "      <td>Female</td>\n",
       "      <td>African American</td>\n",
       "    </tr>\n",
       "    <tr>\n",
       "      <th>1</th>\n",
       "      <td>10000001</td>\n",
       "      <td>10050001</td>\n",
       "      <td>102</td>\n",
       "      <td>V***</td>\n",
       "      <td>T***</td>\n",
       "      <td>Manager</td>\n",
       "      <td>99987.88</td>\n",
       "      <td>Yes</td>\n",
       "      <td>2/12/1975</td>\n",
       "      <td>01/17/1996</td>\n",
       "      <td>Male</td>\n",
       "      <td>African American</td>\n",
       "    </tr>\n",
       "    <tr>\n",
       "      <th>2</th>\n",
       "      <td>10000002</td>\n",
       "      <td>10050002</td>\n",
       "      <td>100</td>\n",
       "      <td>W***</td>\n",
       "      <td>J***</td>\n",
       "      <td>Manager</td>\n",
       "      <td>99996.57</td>\n",
       "      <td>Yes</td>\n",
       "      <td>2/23/1998</td>\n",
       "      <td>01/28/2019</td>\n",
       "      <td>Female</td>\n",
       "      <td>Asian</td>\n",
       "    </tr>\n",
       "    <tr>\n",
       "      <th>3</th>\n",
       "      <td>10000003</td>\n",
       "      <td>10050003</td>\n",
       "      <td>101</td>\n",
       "      <td>M***</td>\n",
       "      <td>G***</td>\n",
       "      <td>Manager</td>\n",
       "      <td>100007.25</td>\n",
       "      <td>Yes</td>\n",
       "      <td>8/13/1965</td>\n",
       "      <td>07/18/1986</td>\n",
       "      <td>Female</td>\n",
       "      <td>Caucasian</td>\n",
       "    </tr>\n",
       "    <tr>\n",
       "      <th>4</th>\n",
       "      <td>10000004</td>\n",
       "      <td>10050004</td>\n",
       "      <td>102</td>\n",
       "      <td>G***</td>\n",
       "      <td>H***</td>\n",
       "      <td>Manager</td>\n",
       "      <td>100027.29</td>\n",
       "      <td>Yes</td>\n",
       "      <td>2/21/1991</td>\n",
       "      <td>01/26/2012</td>\n",
       "      <td>Male</td>\n",
       "      <td>Hispanic</td>\n",
       "    </tr>\n",
       "  </tbody>\n",
       "</table>\n",
       "</div>"
      ],
      "text/plain": [
       "   employee_id  address_id  lab_id first  last position     salary certified  \\\n",
       "0     10000000    10050000     104  F***  O***  Manager   99980.49       Yes   \n",
       "1     10000001    10050001     102  V***  T***  Manager   99987.88       Yes   \n",
       "2     10000002    10050002     100  W***  J***  Manager   99996.57       Yes   \n",
       "3     10000003    10050003     101  M***  G***  Manager  100007.25       Yes   \n",
       "4     10000004    10050004     102  G***  H***  Manager  100027.29       Yes   \n",
       "\n",
       "         dob       hired  gender              race  \n",
       "0  11/6/1960  10/11/1981  Female  African American  \n",
       "1  2/12/1975  01/17/1996    Male  African American  \n",
       "2  2/23/1998  01/28/2019  Female             Asian  \n",
       "3  8/13/1965  07/18/1986  Female         Caucasian  \n",
       "4  2/21/1991  01/26/2012    Male          Hispanic  "
      ]
     },
     "execution_count": 34,
     "metadata": {},
     "output_type": "execute_result"
    }
   ],
   "source": [
    "### CREATE DATAFRAME\n",
    "Employees = pd.DataFrame(employees, columns=['employee_id', 'address_id', 'lab_id','first', \n",
    "                                             'last', 'position', 'salary', \n",
    "                                                 'certified','dob','hired','gender','race'])\n",
    "Employees.to_csv(csv_+'Employees.csv', header = None, index = False)\n",
    "Employees.head()"
   ]
  },
  {
   "cell_type": "code",
   "execution_count": 106,
   "id": "07557f33",
   "metadata": {},
   "outputs": [],
   "source": [
    "INSERT('Employees')\n",
    "TABLES('Employees')\n",
    "FK('Employees')"
   ]
  },
  {
   "cell_type": "code",
   "execution_count": 107,
   "id": "6e3c261b",
   "metadata": {
    "scrolled": true
   },
   "outputs": [
    {
     "data": {
      "text/plain": [
       "100"
      ]
     },
     "execution_count": 107,
     "metadata": {},
     "output_type": "execute_result"
    }
   ],
   "source": [
    "len(Employees)"
   ]
  },
  {
   "cell_type": "markdown",
   "id": "f3fcfd29",
   "metadata": {},
   "source": [
    "### Employee_Survey (n=1200)"
   ]
  },
  {
   "cell_type": "code",
   "execution_count": 108,
   "id": "9282410f",
   "metadata": {},
   "outputs": [],
   "source": [
    "#Employee Survey - monthly survey scale 1-10 = \n",
    "employee_id = np.arange(10000000,10001200,1)[:100].tolist()*12\n",
    "\n",
    "survey_id= np.arange(10000000,10001201,1)\n",
    "\n",
    "pay = np.random.normal(7,1,1200).round(0)\n",
    "\n",
    "promotion=np.random.normal(5,1,1200).round(0)\n",
    "\n",
    "manager=np.random.normal(8,1,1200).round(0)\n",
    "\n",
    "volume=np.random.normal(7,1,1200).round(0)\n",
    "\n",
    "tools=np.random.normal(7,1,1200).round(0)\n",
    "\n",
    "overall=np.random.normal(7,1,1200).round(0)\n",
    "\n",
    "employee_surveys = list(zip(survey_id, employee_id, pay, promotion, \n",
    "                           manager, volume, tools, overall))"
   ]
  },
  {
   "cell_type": "code",
   "execution_count": 109,
   "id": "fa938cf7",
   "metadata": {
    "scrolled": true
   },
   "outputs": [
    {
     "data": {
      "text/html": [
       "<div>\n",
       "<style scoped>\n",
       "    .dataframe tbody tr th:only-of-type {\n",
       "        vertical-align: middle;\n",
       "    }\n",
       "\n",
       "    .dataframe tbody tr th {\n",
       "        vertical-align: top;\n",
       "    }\n",
       "\n",
       "    .dataframe thead th {\n",
       "        text-align: right;\n",
       "    }\n",
       "</style>\n",
       "<table border=\"1\" class=\"dataframe\">\n",
       "  <thead>\n",
       "    <tr style=\"text-align: right;\">\n",
       "      <th></th>\n",
       "      <th>survey_id</th>\n",
       "      <th>employee_id</th>\n",
       "      <th>pay</th>\n",
       "      <th>promotion</th>\n",
       "      <th>manager</th>\n",
       "      <th>work_volume</th>\n",
       "      <th>available_tools</th>\n",
       "      <th>overall</th>\n",
       "    </tr>\n",
       "  </thead>\n",
       "  <tbody>\n",
       "    <tr>\n",
       "      <th>0</th>\n",
       "      <td>10000000</td>\n",
       "      <td>10000000</td>\n",
       "      <td>6.0</td>\n",
       "      <td>4.0</td>\n",
       "      <td>6.0</td>\n",
       "      <td>10.0</td>\n",
       "      <td>8.0</td>\n",
       "      <td>8.0</td>\n",
       "    </tr>\n",
       "    <tr>\n",
       "      <th>1</th>\n",
       "      <td>10000001</td>\n",
       "      <td>10000001</td>\n",
       "      <td>8.0</td>\n",
       "      <td>5.0</td>\n",
       "      <td>8.0</td>\n",
       "      <td>6.0</td>\n",
       "      <td>8.0</td>\n",
       "      <td>7.0</td>\n",
       "    </tr>\n",
       "    <tr>\n",
       "      <th>2</th>\n",
       "      <td>10000002</td>\n",
       "      <td>10000002</td>\n",
       "      <td>7.0</td>\n",
       "      <td>6.0</td>\n",
       "      <td>8.0</td>\n",
       "      <td>8.0</td>\n",
       "      <td>8.0</td>\n",
       "      <td>8.0</td>\n",
       "    </tr>\n",
       "    <tr>\n",
       "      <th>3</th>\n",
       "      <td>10000003</td>\n",
       "      <td>10000003</td>\n",
       "      <td>6.0</td>\n",
       "      <td>6.0</td>\n",
       "      <td>9.0</td>\n",
       "      <td>6.0</td>\n",
       "      <td>7.0</td>\n",
       "      <td>6.0</td>\n",
       "    </tr>\n",
       "    <tr>\n",
       "      <th>4</th>\n",
       "      <td>10000004</td>\n",
       "      <td>10000004</td>\n",
       "      <td>8.0</td>\n",
       "      <td>6.0</td>\n",
       "      <td>8.0</td>\n",
       "      <td>7.0</td>\n",
       "      <td>8.0</td>\n",
       "      <td>7.0</td>\n",
       "    </tr>\n",
       "  </tbody>\n",
       "</table>\n",
       "</div>"
      ],
      "text/plain": [
       "   survey_id  employee_id  pay  promotion  manager  work_volume  \\\n",
       "0   10000000     10000000  6.0        4.0      6.0         10.0   \n",
       "1   10000001     10000001  8.0        5.0      8.0          6.0   \n",
       "2   10000002     10000002  7.0        6.0      8.0          8.0   \n",
       "3   10000003     10000003  6.0        6.0      9.0          6.0   \n",
       "4   10000004     10000004  8.0        6.0      8.0          7.0   \n",
       "\n",
       "   available_tools  overall  \n",
       "0              8.0      8.0  \n",
       "1              8.0      7.0  \n",
       "2              8.0      8.0  \n",
       "3              7.0      6.0  \n",
       "4              8.0      7.0  "
      ]
     },
     "execution_count": 109,
     "metadata": {},
     "output_type": "execute_result"
    }
   ],
   "source": [
    "### CREATE DATAFRAME\n",
    "Employee_Surveys = pd.DataFrame(employee_surveys , columns=['survey_id', 'employee_id','pay', 'promotion', 'manager', \n",
    "                                                     'work_volume', 'available_tools', 'overall'])\n",
    "Employee_Surveys.to_csv(csv_+'Employee_Surveys.csv', header = None, index = False)\n",
    "Employee_Surveys.head()"
   ]
  },
  {
   "cell_type": "code",
   "execution_count": 110,
   "id": "143edb0e",
   "metadata": {},
   "outputs": [],
   "source": [
    "INSERT('Employee_Surveys')\n",
    "TABLES('Employee_Surveys')\n",
    "FK('Employee_Surveys')"
   ]
  },
  {
   "cell_type": "code",
   "execution_count": 111,
   "id": "6eb0bdfb",
   "metadata": {
    "scrolled": true
   },
   "outputs": [
    {
     "data": {
      "text/plain": [
       "1200"
      ]
     },
     "execution_count": 111,
     "metadata": {},
     "output_type": "execute_result"
    }
   ],
   "source": [
    "len(Employee_Surveys)"
   ]
  },
  {
   "cell_type": "markdown",
   "id": "8cd89312",
   "metadata": {},
   "source": [
    "### Shipments (n=60)"
   ]
  },
  {
   "cell_type": "code",
   "execution_count": 112,
   "id": "7b082f58",
   "metadata": {},
   "outputs": [],
   "source": [
    "#Supply Chain -  Per periodic shipment of various items in the company\n",
    "\n",
    "inventory_id = np.arange(10000000,10000600,1)\n",
    "\n",
    "# lab\n",
    "lab_id = [100]*12+[101]*12+[102]*12+[103]*12+[104]*12\n",
    "\n",
    "# shipping dates\n",
    "ship_date1 = [f'{i+1}/01/2021' for i in range(12)]\n",
    "ship_date2 = [f'{i+1}/01/2021' for i in range(12)]\n",
    "ship_date3 = [f'{i+1}/03/2021' for i in range(12)]\n",
    "ship_date4 = [f'{i+1}/02/2021' for i in range(12)]\n",
    "ship_date5 = [f'{i+1}/01/2021' for i in range(12)]\n",
    "shipped = ship_date1 + ship_date2 + ship_date3 + ship_date4 + ship_date5\n",
    "\n",
    "# add some variance to use for KPI reports\n",
    "arrival_date1 = [f'{i+1}/{12%(i+1)+5}/2021' for i in range(12)]\n",
    "arrival_date2 = [f'{i+1}/{12%(i+1)+7}/2021' for i in range(12)]\n",
    "arrival_date3 = [f'{i+1}/{12%(i+1)+8}/2021' for i in range(12)]\n",
    "arrival_date4 = [f'{i+1}/{12%(i+1)+3}/2021' for i in range(12)]\n",
    "arrival_date5 = [f'{i+1}/{12%(i+1)+5}/2021' for i in range(12)]\n",
    "arrival = arrival_date1 + arrival_date2 + arrival_date3 + arrival_date4 + arrival_date5 \n",
    "\n",
    "# cost for each shipment\n",
    "cost1 = np.random.normal(600,10,12).round(2).tolist()\n",
    "cost2 = np.random.normal(600,10,12).round(2).tolist()\n",
    "cost3 = np.random.normal(610,10,12).round(2).tolist()\n",
    "cost4 = np.random.normal(620,10,12).round(2).tolist()\n",
    "cost5 = np.random.normal(600,10,12).round(2).tolist()\n",
    "costs = cost1 + cost2 + cost3 + cost4 + cost5\n",
    "\n",
    "shipments = list(zip(inventory_id,lab_id,shipped,arrival,costs))"
   ]
  },
  {
   "cell_type": "code",
   "execution_count": 113,
   "id": "53385b4a",
   "metadata": {
    "scrolled": false
   },
   "outputs": [
    {
     "data": {
      "text/html": [
       "<div>\n",
       "<style scoped>\n",
       "    .dataframe tbody tr th:only-of-type {\n",
       "        vertical-align: middle;\n",
       "    }\n",
       "\n",
       "    .dataframe tbody tr th {\n",
       "        vertical-align: top;\n",
       "    }\n",
       "\n",
       "    .dataframe thead th {\n",
       "        text-align: right;\n",
       "    }\n",
       "</style>\n",
       "<table border=\"1\" class=\"dataframe\">\n",
       "  <thead>\n",
       "    <tr style=\"text-align: right;\">\n",
       "      <th></th>\n",
       "      <th>inventory_id</th>\n",
       "      <th>lab_id</th>\n",
       "      <th>ship_date</th>\n",
       "      <th>arrival_date</th>\n",
       "      <th>cost</th>\n",
       "    </tr>\n",
       "  </thead>\n",
       "  <tbody>\n",
       "    <tr>\n",
       "      <th>0</th>\n",
       "      <td>10000000</td>\n",
       "      <td>100</td>\n",
       "      <td>1/01/2021</td>\n",
       "      <td>1/5/2021</td>\n",
       "      <td>605.62</td>\n",
       "    </tr>\n",
       "    <tr>\n",
       "      <th>1</th>\n",
       "      <td>10000001</td>\n",
       "      <td>100</td>\n",
       "      <td>2/01/2021</td>\n",
       "      <td>2/5/2021</td>\n",
       "      <td>602.48</td>\n",
       "    </tr>\n",
       "    <tr>\n",
       "      <th>2</th>\n",
       "      <td>10000002</td>\n",
       "      <td>100</td>\n",
       "      <td>3/01/2021</td>\n",
       "      <td>3/5/2021</td>\n",
       "      <td>604.67</td>\n",
       "    </tr>\n",
       "    <tr>\n",
       "      <th>3</th>\n",
       "      <td>10000003</td>\n",
       "      <td>100</td>\n",
       "      <td>4/01/2021</td>\n",
       "      <td>4/5/2021</td>\n",
       "      <td>595.85</td>\n",
       "    </tr>\n",
       "    <tr>\n",
       "      <th>4</th>\n",
       "      <td>10000004</td>\n",
       "      <td>100</td>\n",
       "      <td>5/01/2021</td>\n",
       "      <td>5/7/2021</td>\n",
       "      <td>624.90</td>\n",
       "    </tr>\n",
       "  </tbody>\n",
       "</table>\n",
       "</div>"
      ],
      "text/plain": [
       "   inventory_id  lab_id  ship_date arrival_date    cost\n",
       "0      10000000     100  1/01/2021     1/5/2021  605.62\n",
       "1      10000001     100  2/01/2021     2/5/2021  602.48\n",
       "2      10000002     100  3/01/2021     3/5/2021  604.67\n",
       "3      10000003     100  4/01/2021     4/5/2021  595.85\n",
       "4      10000004     100  5/01/2021     5/7/2021  624.90"
      ]
     },
     "execution_count": 113,
     "metadata": {},
     "output_type": "execute_result"
    }
   ],
   "source": [
    "### CREATE DATAFRAME\n",
    "Shipments = pd.DataFrame(shipments , columns=['inventory_id','lab_id', \n",
    "                                              'ship_date', 'arrival_date',\n",
    "                                              'cost'])\n",
    "Shipments.to_csv(csv_+'Shipments.csv', header = None, index = False)\n",
    "Shipments.head()"
   ]
  },
  {
   "cell_type": "code",
   "execution_count": 114,
   "id": "10c0a079",
   "metadata": {},
   "outputs": [],
   "source": [
    "INSERT('Shipments')\n",
    "TABLES('Shipments')\n",
    "FK('Shipments')"
   ]
  },
  {
   "cell_type": "code",
   "execution_count": 115,
   "id": "a275b05b",
   "metadata": {
    "scrolled": true
   },
   "outputs": [
    {
     "data": {
      "text/plain": [
       "60"
      ]
     },
     "execution_count": 115,
     "metadata": {},
     "output_type": "execute_result"
    }
   ],
   "source": [
    "len(Shipments)"
   ]
  },
  {
   "cell_type": "markdown",
   "id": "e715963b",
   "metadata": {},
   "source": [
    "### Analyzers (n=25)"
   ]
  },
  {
   "cell_type": "code",
   "execution_count": 270,
   "id": "82e3cb45",
   "metadata": {},
   "outputs": [
    {
     "data": {
      "text/plain": [
       "8"
      ]
     },
     "execution_count": 270,
     "metadata": {},
     "output_type": "execute_result"
    }
   ],
   "source": [
    "# Equiptment - catologe of all equiptment \n",
    "# 4 analyzers per a site = 20 total\n",
    "sn = np.arange(10000000,10000025,1)\n",
    "\n",
    "lab_id = ['100']*5+['101']*5+['102']*5+['103']*5+['104']*5\n",
    "\n",
    "panel_id = ['10000000','10000001','10000002','10000003','10000004'] * 5\n",
    "panel_id = [int(panel) for panel in panel_id]\n",
    "\n",
    "device= ['Sysmex','Siemens_1','Siemens_2','Roche','Abbott']\n",
    "device = device * 5\n",
    "\n",
    "analyzers = list(zip(sn,lab_id,panel_id,device))\n",
    "len('10000003')"
   ]
  },
  {
   "cell_type": "code",
   "execution_count": 271,
   "id": "ebc779c5",
   "metadata": {},
   "outputs": [
    {
     "data": {
      "text/html": [
       "<div>\n",
       "<style scoped>\n",
       "    .dataframe tbody tr th:only-of-type {\n",
       "        vertical-align: middle;\n",
       "    }\n",
       "\n",
       "    .dataframe tbody tr th {\n",
       "        vertical-align: top;\n",
       "    }\n",
       "\n",
       "    .dataframe thead th {\n",
       "        text-align: right;\n",
       "    }\n",
       "</style>\n",
       "<table border=\"1\" class=\"dataframe\">\n",
       "  <thead>\n",
       "    <tr style=\"text-align: right;\">\n",
       "      <th></th>\n",
       "      <th>serial_number</th>\n",
       "      <th>lab_id</th>\n",
       "      <th>panel_id</th>\n",
       "      <th>device</th>\n",
       "    </tr>\n",
       "  </thead>\n",
       "  <tbody>\n",
       "    <tr>\n",
       "      <th>0</th>\n",
       "      <td>10000000</td>\n",
       "      <td>100</td>\n",
       "      <td>10000000</td>\n",
       "      <td>Sysmex</td>\n",
       "    </tr>\n",
       "    <tr>\n",
       "      <th>1</th>\n",
       "      <td>10000001</td>\n",
       "      <td>100</td>\n",
       "      <td>10000001</td>\n",
       "      <td>Siemens_1</td>\n",
       "    </tr>\n",
       "    <tr>\n",
       "      <th>2</th>\n",
       "      <td>10000002</td>\n",
       "      <td>100</td>\n",
       "      <td>10000002</td>\n",
       "      <td>Siemens_2</td>\n",
       "    </tr>\n",
       "    <tr>\n",
       "      <th>3</th>\n",
       "      <td>10000003</td>\n",
       "      <td>100</td>\n",
       "      <td>10000003</td>\n",
       "      <td>Roche</td>\n",
       "    </tr>\n",
       "    <tr>\n",
       "      <th>4</th>\n",
       "      <td>10000004</td>\n",
       "      <td>100</td>\n",
       "      <td>10000004</td>\n",
       "      <td>Abbott</td>\n",
       "    </tr>\n",
       "  </tbody>\n",
       "</table>\n",
       "</div>"
      ],
      "text/plain": [
       "   serial_number lab_id  panel_id     device\n",
       "0       10000000    100  10000000     Sysmex\n",
       "1       10000001    100  10000001  Siemens_1\n",
       "2       10000002    100  10000002  Siemens_2\n",
       "3       10000003    100  10000003      Roche\n",
       "4       10000004    100  10000004     Abbott"
      ]
     },
     "execution_count": 271,
     "metadata": {},
     "output_type": "execute_result"
    }
   ],
   "source": [
    "### CREATE DATAFRAME\n",
    "Analyzers = pd.DataFrame(analyzers ,columns=['serial_number', 'lab_id', 'panel_id','device'])                                       \n",
    "Analyzers.to_csv(csv_+'Analyzers.csv', header = None, index = False)\n",
    "Analyzers.head()"
   ]
  },
  {
   "cell_type": "code",
   "execution_count": 118,
   "id": "c5dee69a",
   "metadata": {},
   "outputs": [],
   "source": [
    "INSERT('Analyzers')\n",
    "TABLES('Analyzers')\n",
    "FK('Analyzers')"
   ]
  },
  {
   "cell_type": "code",
   "execution_count": 119,
   "id": "9a670262",
   "metadata": {
    "scrolled": true
   },
   "outputs": [
    {
     "data": {
      "text/plain": [
       "25"
      ]
     },
     "execution_count": 119,
     "metadata": {},
     "output_type": "execute_result"
    }
   ],
   "source": [
    "len(Analyzers)"
   ]
  },
  {
   "cell_type": "markdown",
   "id": "4ddcd36c",
   "metadata": {},
   "source": [
    "### QC_Definitions (n=390)\n",
    "26 tests each with 3 different QC 'levels'(concentration amount) for each of the 5 Laboratories"
   ]
  },
  {
   "cell_type": "code",
   "execution_count": 266,
   "id": "c9e76566",
   "metadata": {},
   "outputs": [],
   "source": [
    "# Quality Control Test Definitions\n",
    "qc_definition_id = np.arange(10000000,10000390,1)\n",
    "\n",
    "level= ['1']*26 + ['2']*26 + ['3']*26\n",
    "level = level * 5\n",
    "\n",
    "lab_id = ['100']*78+['101']*78+['102']*78+['103']*78+['104']*78\n",
    "\n",
    "# analyte names as seen on reports\n",
    "analytes = ['SODIUM', 'POTASSIUM', 'BICARBONATE', 'CALCIUM', 'CHLORIDE', 'GLUCOSE',\n",
    "                'PROTEIN','CREATININE', 'GFR', 'UREA NITROGEN',\n",
    "                'AST','ALT', 'GGT', 'ALBUMIN' , \n",
    "                'CHOLESTEROL', 'TRIGLYCERIDE', 'LDL', 'HDL',\n",
    "                'WBC', 'RBC', 'HEMOGLOBIN', 'HEMATOCRIT', 'PLATELET', \n",
    "                'PROTIME', 'APTT', 'INR'] * 15\n",
    "\n",
    "# average analyte value as tracked by laboratory\n",
    "mid_mean = [140,4,25,9,105,130,\n",
    "                7,1,60,15,\n",
    "                22,24,80,4.2,\n",
    "                200,60,80,40,\n",
    "                8,4.5,14,42,250,\n",
    "                12,16,1.1]\n",
    "low_mean = np.multiply(mid_mean,0.9).tolist()\n",
    "high_mean = np.multiply(mid_mean,1.1).tolist()\n",
    "mean1 = np.r_[low_mean,mid_mean,high_mean] # lab 1\n",
    "mean2 = np.r_[np.multiply(low_mean,1.1),np.multiply(mid_mean,1.1),np.multiply(high_mean,1.005)] # lab 2\n",
    "mean3 = np.r_[np.multiply(low_mean,1.005),np.multiply(mid_mean,0.999),np.multiply(high_mean,0.999)] # lab 3\n",
    "mean4 = np.r_[np.multiply(low_mean,1.0001),np.multiply(mid_mean,1.0001),np.multiply(high_mean,1.0001)] # lab 4\n",
    "mean5 = np.r_[np.multiply(low_mean,1.02),np.multiply(mid_mean,1.0001),np.multiply(high_mean,0.99)] # lab 5\n",
    "mean = np.r_[mean1, mean2, mean3, mean4, mean5]\n",
    "\n",
    "# analyte_sd = 1% of the mean\n",
    "sd = []\n",
    "for m in mean:\n",
    "    sd.append(round(m*0.03,2))\n",
    "sd = sd\n",
    "\n",
    "# unit of measure is measurement units relative to the ordered test - i.e. mg/dL \n",
    "units = ['mmol/L', 'mmol/L', 'mmol/L', 'mg/dL', 'mmol/L', 'mg/dL',\n",
    "                    'g/dL','mg/dL', 'mmol/L','mg/dL',\n",
    "                    'U/L', 'U/L', 'U/L', 'g/dL', \n",
    "                    'mmol/L', 'mg/dL', 'g/dL', 'U/L', \n",
    "                    'U/L','/mL','g/dL', '%', '/mL', \n",
    "                    'sec', 'sec', 'sec'] * 15\n",
    "mult = [10,4,4,5,3]\n",
    "mult = mult * 5 * 3\n",
    "sn = np.arange(10000000,10000025,1)\n",
    "sn = [str(s) for s in sn] * 3\n",
    "serial_number=[]\n",
    "for m,s in zip(mult,sn):\n",
    "    temp = [s]\n",
    "    temp = temp * m\n",
    "    serial_number.extend(temp)\n",
    "    del temp\n",
    "\n",
    "qc_defintions = list(zip(qc_definition_id, level,analytes,mean,sd,units,serial_number, lab_id))"
   ]
  },
  {
   "cell_type": "code",
   "execution_count": 267,
   "id": "1892d429",
   "metadata": {
    "scrolled": true
   },
   "outputs": [
    {
     "data": {
      "text/html": [
       "<div>\n",
       "<style scoped>\n",
       "    .dataframe tbody tr th:only-of-type {\n",
       "        vertical-align: middle;\n",
       "    }\n",
       "\n",
       "    .dataframe tbody tr th {\n",
       "        vertical-align: top;\n",
       "    }\n",
       "\n",
       "    .dataframe thead th {\n",
       "        text-align: right;\n",
       "    }\n",
       "</style>\n",
       "<table border=\"1\" class=\"dataframe\">\n",
       "  <thead>\n",
       "    <tr style=\"text-align: right;\">\n",
       "      <th></th>\n",
       "      <th>qc_definition_id</th>\n",
       "      <th>level</th>\n",
       "      <th>analytes</th>\n",
       "      <th>mean</th>\n",
       "      <th>sd</th>\n",
       "      <th>units</th>\n",
       "      <th>serial_number</th>\n",
       "      <th>lab_id</th>\n",
       "    </tr>\n",
       "  </thead>\n",
       "  <tbody>\n",
       "    <tr>\n",
       "      <th>0</th>\n",
       "      <td>10000000</td>\n",
       "      <td>1</td>\n",
       "      <td>SODIUM</td>\n",
       "      <td>126.0</td>\n",
       "      <td>3.78</td>\n",
       "      <td>mmol/L</td>\n",
       "      <td>10000000</td>\n",
       "      <td>100</td>\n",
       "    </tr>\n",
       "    <tr>\n",
       "      <th>1</th>\n",
       "      <td>10000001</td>\n",
       "      <td>1</td>\n",
       "      <td>POTASSIUM</td>\n",
       "      <td>3.6</td>\n",
       "      <td>0.11</td>\n",
       "      <td>mmol/L</td>\n",
       "      <td>10000000</td>\n",
       "      <td>100</td>\n",
       "    </tr>\n",
       "    <tr>\n",
       "      <th>2</th>\n",
       "      <td>10000002</td>\n",
       "      <td>1</td>\n",
       "      <td>BICARBONATE</td>\n",
       "      <td>22.5</td>\n",
       "      <td>0.68</td>\n",
       "      <td>mmol/L</td>\n",
       "      <td>10000000</td>\n",
       "      <td>100</td>\n",
       "    </tr>\n",
       "    <tr>\n",
       "      <th>3</th>\n",
       "      <td>10000003</td>\n",
       "      <td>1</td>\n",
       "      <td>CALCIUM</td>\n",
       "      <td>8.1</td>\n",
       "      <td>0.24</td>\n",
       "      <td>mg/dL</td>\n",
       "      <td>10000000</td>\n",
       "      <td>100</td>\n",
       "    </tr>\n",
       "    <tr>\n",
       "      <th>4</th>\n",
       "      <td>10000004</td>\n",
       "      <td>1</td>\n",
       "      <td>CHLORIDE</td>\n",
       "      <td>94.5</td>\n",
       "      <td>2.84</td>\n",
       "      <td>mmol/L</td>\n",
       "      <td>10000000</td>\n",
       "      <td>100</td>\n",
       "    </tr>\n",
       "  </tbody>\n",
       "</table>\n",
       "</div>"
      ],
      "text/plain": [
       "   qc_definition_id level     analytes   mean    sd   units serial_number  \\\n",
       "0          10000000     1       SODIUM  126.0  3.78  mmol/L      10000000   \n",
       "1          10000001     1    POTASSIUM    3.6  0.11  mmol/L      10000000   \n",
       "2          10000002     1  BICARBONATE   22.5  0.68  mmol/L      10000000   \n",
       "3          10000003     1      CALCIUM    8.1  0.24   mg/dL      10000000   \n",
       "4          10000004     1     CHLORIDE   94.5  2.84  mmol/L      10000000   \n",
       "\n",
       "  lab_id  \n",
       "0    100  \n",
       "1    100  \n",
       "2    100  \n",
       "3    100  \n",
       "4    100  "
      ]
     },
     "execution_count": 267,
     "metadata": {},
     "output_type": "execute_result"
    }
   ],
   "source": [
    "### CREATE DATAFRAME\n",
    "QC_Definitions = pd.DataFrame(qc_defintions ,columns=['qc_definition_id', 'level', 'analytes', \n",
    "                                                      'mean','sd', 'units','serial_number', 'lab_id'])\n",
    "QC_Definitions.to_csv(csv_+'QC_Definitions.csv', header = None, index = False)\n",
    "QC_Definitions.head()"
   ]
  },
  {
   "cell_type": "code",
   "execution_count": 122,
   "id": "cc591ac2",
   "metadata": {},
   "outputs": [],
   "source": [
    "INSERT('QC_Definitions')\n",
    "TABLES('QC_Definitions')\n",
    "FK('QC_Definitions')"
   ]
  },
  {
   "cell_type": "code",
   "execution_count": 123,
   "id": "d9bbea6b",
   "metadata": {
    "scrolled": true
   },
   "outputs": [
    {
     "data": {
      "text/plain": [
       "75"
      ]
     },
     "execution_count": 123,
     "metadata": {},
     "output_type": "execute_result"
    }
   ],
   "source": [
    "len(QC_Definitions)"
   ]
  },
  {
   "cell_type": "markdown",
   "id": "7766c388",
   "metadata": {},
   "source": [
    "### Quality Control Results (n=142350)\n",
    "- 5 Labs run 3 QC Levels each consisting of 26 Tests run daily \n",
    "- a total of 142 350 individual test results\n",
    "- the actual test result = nan value that will be determined using `postgreSQL` `pl/pgsql` language"
   ]
  },
  {
   "cell_type": "code",
   "execution_count": 9,
   "id": "30a59c53",
   "metadata": {
    "scrolled": false
   },
   "outputs": [],
   "source": [
    "qc_result_id = np.arange(10000000,10142350,1)\n",
    "\n",
    "qc_definition_id = np.arange(10000000,10000078,1).tolist() * 5 * 365\n",
    "\n",
    "datetime = pd.date_range(start ='1-1-2021', \n",
    "         end ='12-31-2021', freq ='1D').tolist() * 5 * 3 * 26\n",
    "\n",
    "results = [np.nan]*142350\n",
    "\n",
    "qc_results = list(zip(qc_result_id,qc_definition_id, \n",
    "                      datetime, results))"
   ]
  },
  {
   "cell_type": "code",
   "execution_count": 10,
   "id": "a670e484",
   "metadata": {
    "scrolled": true
   },
   "outputs": [
    {
     "data": {
      "text/html": [
       "<div>\n",
       "<style scoped>\n",
       "    .dataframe tbody tr th:only-of-type {\n",
       "        vertical-align: middle;\n",
       "    }\n",
       "\n",
       "    .dataframe tbody tr th {\n",
       "        vertical-align: top;\n",
       "    }\n",
       "\n",
       "    .dataframe thead th {\n",
       "        text-align: right;\n",
       "    }\n",
       "</style>\n",
       "<table border=\"1\" class=\"dataframe\">\n",
       "  <thead>\n",
       "    <tr style=\"text-align: right;\">\n",
       "      <th></th>\n",
       "      <th>qc_result_id</th>\n",
       "      <th>qc_definition_id</th>\n",
       "      <th>datetime</th>\n",
       "      <th>results</th>\n",
       "    </tr>\n",
       "  </thead>\n",
       "  <tbody>\n",
       "    <tr>\n",
       "      <th>0</th>\n",
       "      <td>10000000</td>\n",
       "      <td>10000000</td>\n",
       "      <td>2021-01-01</td>\n",
       "      <td>NaN</td>\n",
       "    </tr>\n",
       "    <tr>\n",
       "      <th>1</th>\n",
       "      <td>10000001</td>\n",
       "      <td>10000001</td>\n",
       "      <td>2021-01-02</td>\n",
       "      <td>NaN</td>\n",
       "    </tr>\n",
       "    <tr>\n",
       "      <th>2</th>\n",
       "      <td>10000002</td>\n",
       "      <td>10000002</td>\n",
       "      <td>2021-01-03</td>\n",
       "      <td>NaN</td>\n",
       "    </tr>\n",
       "    <tr>\n",
       "      <th>3</th>\n",
       "      <td>10000003</td>\n",
       "      <td>10000003</td>\n",
       "      <td>2021-01-04</td>\n",
       "      <td>NaN</td>\n",
       "    </tr>\n",
       "    <tr>\n",
       "      <th>4</th>\n",
       "      <td>10000004</td>\n",
       "      <td>10000004</td>\n",
       "      <td>2021-01-05</td>\n",
       "      <td>NaN</td>\n",
       "    </tr>\n",
       "  </tbody>\n",
       "</table>\n",
       "</div>"
      ],
      "text/plain": [
       "   qc_result_id  qc_definition_id   datetime  results\n",
       "0      10000000          10000000 2021-01-01      NaN\n",
       "1      10000001          10000001 2021-01-02      NaN\n",
       "2      10000002          10000002 2021-01-03      NaN\n",
       "3      10000003          10000003 2021-01-04      NaN\n",
       "4      10000004          10000004 2021-01-05      NaN"
      ]
     },
     "execution_count": 10,
     "metadata": {},
     "output_type": "execute_result"
    }
   ],
   "source": [
    "QC_Results = pd.DataFrame(qc_results, columns=['qc_result_id','qc_definition_id', \n",
    "                                               'datetime','results'])\n",
    "QC_Results.to_csv(csv_+'QC_Results.csv', header = None, index = False)\n",
    "QC_Results.head()"
   ]
  },
  {
   "cell_type": "code",
   "execution_count": 126,
   "id": "d066f0ea",
   "metadata": {},
   "outputs": [],
   "source": [
    "INSERT('QC_Results')\n",
    "TABLES('QC_Results')\n",
    "FK('QC_Results')"
   ]
  },
  {
   "cell_type": "code",
   "execution_count": 127,
   "id": "2a21c6f3",
   "metadata": {},
   "outputs": [
    {
     "data": {
      "text/plain": [
       "142350"
      ]
     },
     "execution_count": 127,
     "metadata": {},
     "output_type": "execute_result"
    }
   ],
   "source": [
    "len(QC_Results)"
   ]
  },
  {
   "cell_type": "markdown",
   "id": "a8c0fe94",
   "metadata": {},
   "source": [
    "### Panels (n=5)\n",
    "5 Panels with corresponding costs"
   ]
  },
  {
   "cell_type": "code",
   "execution_count": 3,
   "id": "31788273",
   "metadata": {},
   "outputs": [],
   "source": [
    "\n",
    "panel_id = np.arange(10000000,10000005,1)\n",
    "\n",
    "panels = ['CMP','HFT','LIP','CBC','COAG'] \n",
    "\n",
    "costs = [39.99,34.99,28.99,33.00,49.99]\n",
    "\n",
    "panels_ = list(zip(panel_id, panels, costs))"
   ]
  },
  {
   "cell_type": "code",
   "execution_count": 4,
   "id": "5f8c2761",
   "metadata": {},
   "outputs": [
    {
     "data": {
      "text/html": [
       "<div>\n",
       "<style scoped>\n",
       "    .dataframe tbody tr th:only-of-type {\n",
       "        vertical-align: middle;\n",
       "    }\n",
       "\n",
       "    .dataframe tbody tr th {\n",
       "        vertical-align: top;\n",
       "    }\n",
       "\n",
       "    .dataframe thead th {\n",
       "        text-align: right;\n",
       "    }\n",
       "</style>\n",
       "<table border=\"1\" class=\"dataframe\">\n",
       "  <thead>\n",
       "    <tr style=\"text-align: right;\">\n",
       "      <th></th>\n",
       "      <th>panel_id</th>\n",
       "      <th>panel</th>\n",
       "      <th>cost</th>\n",
       "    </tr>\n",
       "  </thead>\n",
       "  <tbody>\n",
       "    <tr>\n",
       "      <th>0</th>\n",
       "      <td>10000000</td>\n",
       "      <td>CMP</td>\n",
       "      <td>39.99</td>\n",
       "    </tr>\n",
       "    <tr>\n",
       "      <th>1</th>\n",
       "      <td>10000001</td>\n",
       "      <td>HFT</td>\n",
       "      <td>34.99</td>\n",
       "    </tr>\n",
       "    <tr>\n",
       "      <th>2</th>\n",
       "      <td>10000002</td>\n",
       "      <td>LIP</td>\n",
       "      <td>28.99</td>\n",
       "    </tr>\n",
       "    <tr>\n",
       "      <th>3</th>\n",
       "      <td>10000003</td>\n",
       "      <td>CBC</td>\n",
       "      <td>33.00</td>\n",
       "    </tr>\n",
       "    <tr>\n",
       "      <th>4</th>\n",
       "      <td>10000004</td>\n",
       "      <td>COAG</td>\n",
       "      <td>49.99</td>\n",
       "    </tr>\n",
       "  </tbody>\n",
       "</table>\n",
       "</div>"
      ],
      "text/plain": [
       "   panel_id panel   cost\n",
       "0  10000000   CMP  39.99\n",
       "1  10000001   HFT  34.99\n",
       "2  10000002   LIP  28.99\n",
       "3  10000003   CBC  33.00\n",
       "4  10000004  COAG  49.99"
      ]
     },
     "execution_count": 4,
     "metadata": {},
     "output_type": "execute_result"
    }
   ],
   "source": [
    "### CREATE DATAFRAME\n",
    "Panels = pd.DataFrame(panels_, columns=['panel_id','panel','cost'])\n",
    "Panels.to_csv(csv_+'Panels.csv', header = None, index = False)\n",
    "Panels.head()"
   ]
  },
  {
   "cell_type": "code",
   "execution_count": 130,
   "id": "a216f57f",
   "metadata": {},
   "outputs": [],
   "source": [
    "INSERT('Panels')\n",
    "TABLES('Panels')\n",
    "FK('QC_Results')"
   ]
  },
  {
   "cell_type": "code",
   "execution_count": 131,
   "id": "2b55cfa9",
   "metadata": {
    "scrolled": true
   },
   "outputs": [
    {
     "data": {
      "text/plain": [
       "5"
      ]
     },
     "execution_count": 131,
     "metadata": {},
     "output_type": "execute_result"
    }
   ],
   "source": [
    "len(Panels)"
   ]
  },
  {
   "cell_type": "markdown",
   "id": "98154b9d",
   "metadata": {},
   "source": [
    "### Containers\n",
    "A dictionary containing a container_id and a container type"
   ]
  },
  {
   "cell_type": "code",
   "execution_count": 251,
   "id": "8ece6d74",
   "metadata": {},
   "outputs": [],
   "source": [
    "container_id = np.arange(10000000,11000001,1)\n",
    "panels = ['10000000','10000001','10000002','10000003','10000004'] \n",
    "container_type = ['Red','Red','Green','Lavendar','Blue']\n",
    "containers = list(zip(container_id, panels, container_type))"
   ]
  },
  {
   "cell_type": "code",
   "execution_count": 253,
   "id": "68d22079",
   "metadata": {},
   "outputs": [
    {
     "data": {
      "text/html": [
       "<div>\n",
       "<style scoped>\n",
       "    .dataframe tbody tr th:only-of-type {\n",
       "        vertical-align: middle;\n",
       "    }\n",
       "\n",
       "    .dataframe tbody tr th {\n",
       "        vertical-align: top;\n",
       "    }\n",
       "\n",
       "    .dataframe thead th {\n",
       "        text-align: right;\n",
       "    }\n",
       "</style>\n",
       "<table border=\"1\" class=\"dataframe\">\n",
       "  <thead>\n",
       "    <tr style=\"text-align: right;\">\n",
       "      <th></th>\n",
       "      <th>container_id</th>\n",
       "      <th>panel_id</th>\n",
       "      <th>container_type</th>\n",
       "    </tr>\n",
       "  </thead>\n",
       "  <tbody>\n",
       "    <tr>\n",
       "      <th>0</th>\n",
       "      <td>10000000</td>\n",
       "      <td>10000000</td>\n",
       "      <td>Red</td>\n",
       "    </tr>\n",
       "    <tr>\n",
       "      <th>1</th>\n",
       "      <td>10000001</td>\n",
       "      <td>10000001</td>\n",
       "      <td>Red</td>\n",
       "    </tr>\n",
       "    <tr>\n",
       "      <th>2</th>\n",
       "      <td>10000002</td>\n",
       "      <td>10000002</td>\n",
       "      <td>Green</td>\n",
       "    </tr>\n",
       "    <tr>\n",
       "      <th>3</th>\n",
       "      <td>10000003</td>\n",
       "      <td>10000003</td>\n",
       "      <td>Lavendar</td>\n",
       "    </tr>\n",
       "    <tr>\n",
       "      <th>4</th>\n",
       "      <td>10000004</td>\n",
       "      <td>10000004</td>\n",
       "      <td>Blue</td>\n",
       "    </tr>\n",
       "  </tbody>\n",
       "</table>\n",
       "</div>"
      ],
      "text/plain": [
       "   container_id  panel_id container_type\n",
       "0      10000000  10000000            Red\n",
       "1      10000001  10000001            Red\n",
       "2      10000002  10000002          Green\n",
       "3      10000003  10000003       Lavendar\n",
       "4      10000004  10000004           Blue"
      ]
     },
     "execution_count": 253,
     "metadata": {},
     "output_type": "execute_result"
    }
   ],
   "source": [
    "Containers = pd.DataFrame(containers, columns=['container_id','panel_id','container_type'])\n",
    "Containers.to_csv(csv_+'Containers.csv', header = None, index = False)\n",
    "Containers.head()"
   ]
  },
  {
   "cell_type": "code",
   "execution_count": 134,
   "id": "b036ac8f",
   "metadata": {},
   "outputs": [],
   "source": [
    "INSERT('Containers')\n",
    "TABLES('Containers')\n",
    "FK('Containers')"
   ]
  },
  {
   "cell_type": "code",
   "execution_count": 135,
   "id": "a9d8ec5f",
   "metadata": {},
   "outputs": [
    {
     "data": {
      "text/plain": [
       "5"
      ]
     },
     "execution_count": 135,
     "metadata": {},
     "output_type": "execute_result"
    }
   ],
   "source": [
    "len(Containers)"
   ]
  },
  {
   "cell_type": "markdown",
   "id": "c9ca74c5",
   "metadata": {},
   "source": [
    "### Orders (n=1000000)\n",
    "1 000 000 Orders for 50000 Customers within 1 year period for all 5 Labs"
   ]
  },
  {
   "cell_type": "code",
   "execution_count": 14,
   "id": "76a76efb",
   "metadata": {},
   "outputs": [],
   "source": [
    "lab_id = ['100','101','102','103','104']\n",
    "lab_id = random.choices(lab_id, k=1000000)\n",
    "\n",
    "datetime = pd.date_range(start ='1-1-2021', \n",
    "         end ='12-31-2021',periods=1000000).strftime(\"%m/%d/%Y %H:%M:%S\")\n",
    "\n",
    "\n",
    "customer_id = customer_id = np.arange(10000000,10050000,1)\n",
    "customer_id = random.choices(customer_id,k=1000000)\n",
    "\n",
    "panels = ['CMP','HFT','LIP','CBC','COAG'] \n",
    "panel = random.choices(panels, weights=[250000,250000,200000,200000,100000],k = 1000000)\n",
    "\n",
    "panel_id=[]\n",
    "for p in panel:\n",
    "    panel_id.append(Panels[Panels['panel'].str.contains(str(p))]['panel_id'].values[0])\n",
    "\n",
    "orders = list(zip(lab_id, datetime, customer_id, panel, panel_id))\n",
    "Orders = pd.DataFrame(orders, columns=['lab_id','datetime',\n",
    "                                       'customer_id','panel','panel_id'])\n",
    "\n",
    "Orders = Orders.reindex(columns = ['lab_id','datetime',\n",
    "                                   'customer_id','panel','panel_id'])\n",
    "\n",
    "Orders = Orders.sort_values(['datetime']).reset_index(drop=True)\n",
    "Orders['order_id'] = np.arange(10000000,11000000,1)\n",
    "\n",
    "# split datetime into date and time\n",
    "Orders[['date','time']] = Orders['datetime'].str.split(expand=True)\n",
    "Orders = Orders.drop(['datetime'], axis=1)\n",
    "Orders = Orders.reindex(columns = ['order_id','lab_id','customer_id',\n",
    "                                   'panel','panel_id','date','time'])"
   ]
  },
  {
   "cell_type": "code",
   "execution_count": 15,
   "id": "41cd59ae",
   "metadata": {
    "scrolled": true
   },
   "outputs": [
    {
     "data": {
      "text/html": [
       "<div>\n",
       "<style scoped>\n",
       "    .dataframe tbody tr th:only-of-type {\n",
       "        vertical-align: middle;\n",
       "    }\n",
       "\n",
       "    .dataframe tbody tr th {\n",
       "        vertical-align: top;\n",
       "    }\n",
       "\n",
       "    .dataframe thead th {\n",
       "        text-align: right;\n",
       "    }\n",
       "</style>\n",
       "<table border=\"1\" class=\"dataframe\">\n",
       "  <thead>\n",
       "    <tr style=\"text-align: right;\">\n",
       "      <th></th>\n",
       "      <th>order_id</th>\n",
       "      <th>lab_id</th>\n",
       "      <th>customer_id</th>\n",
       "      <th>panel</th>\n",
       "      <th>panel_id</th>\n",
       "      <th>date</th>\n",
       "      <th>time</th>\n",
       "    </tr>\n",
       "  </thead>\n",
       "  <tbody>\n",
       "    <tr>\n",
       "      <th>0</th>\n",
       "      <td>10000000</td>\n",
       "      <td>103</td>\n",
       "      <td>10024734</td>\n",
       "      <td>HFT</td>\n",
       "      <td>10000001</td>\n",
       "      <td>01/01/2021</td>\n",
       "      <td>00:00:00</td>\n",
       "    </tr>\n",
       "    <tr>\n",
       "      <th>1</th>\n",
       "      <td>10000001</td>\n",
       "      <td>102</td>\n",
       "      <td>10028664</td>\n",
       "      <td>CMP</td>\n",
       "      <td>10000000</td>\n",
       "      <td>01/01/2021</td>\n",
       "      <td>00:00:31</td>\n",
       "    </tr>\n",
       "    <tr>\n",
       "      <th>2</th>\n",
       "      <td>10000002</td>\n",
       "      <td>101</td>\n",
       "      <td>10036427</td>\n",
       "      <td>HFT</td>\n",
       "      <td>10000001</td>\n",
       "      <td>01/01/2021</td>\n",
       "      <td>00:01:02</td>\n",
       "    </tr>\n",
       "    <tr>\n",
       "      <th>3</th>\n",
       "      <td>10000003</td>\n",
       "      <td>102</td>\n",
       "      <td>10029194</td>\n",
       "      <td>HFT</td>\n",
       "      <td>10000001</td>\n",
       "      <td>01/01/2021</td>\n",
       "      <td>00:01:34</td>\n",
       "    </tr>\n",
       "    <tr>\n",
       "      <th>4</th>\n",
       "      <td>10000004</td>\n",
       "      <td>100</td>\n",
       "      <td>10039727</td>\n",
       "      <td>COAG</td>\n",
       "      <td>10000004</td>\n",
       "      <td>01/01/2021</td>\n",
       "      <td>00:02:05</td>\n",
       "    </tr>\n",
       "  </tbody>\n",
       "</table>\n",
       "</div>"
      ],
      "text/plain": [
       "   order_id  lab_id  customer_id panel  panel_id        date      time\n",
       "0  10000000     103     10024734   HFT  10000001  01/01/2021  00:00:00\n",
       "1  10000001     102     10028664   CMP  10000000  01/01/2021  00:00:31\n",
       "2  10000002     101     10036427   HFT  10000001  01/01/2021  00:01:02\n",
       "3  10000003     102     10029194   HFT  10000001  01/01/2021  00:01:34\n",
       "4  10000004     100     10039727  COAG  10000004  01/01/2021  00:02:05"
      ]
     },
     "execution_count": 15,
     "metadata": {},
     "output_type": "execute_result"
    }
   ],
   "source": [
    "Orders.panel_id = Orders.panel_id.map(int)\n",
    "Orders.lab_id = Orders.lab_id.map(int)\n",
    "Orders.to_csv(csv_+'Orders.csv', header = None, index = False)\n",
    "Orders.head()"
   ]
  },
  {
   "cell_type": "code",
   "execution_count": 147,
   "id": "f0efc382",
   "metadata": {},
   "outputs": [
    {
     "data": {
      "text/plain": [
       "order_id        int32\n",
       "lab_id          int64\n",
       "customer_id     int32\n",
       "panel          object\n",
       "panel_id        int64\n",
       "date           object\n",
       "time           object\n",
       "dtype: object"
      ]
     },
     "execution_count": 147,
     "metadata": {},
     "output_type": "execute_result"
    }
   ],
   "source": [
    "Orders.dtypes"
   ]
  },
  {
   "cell_type": "code",
   "execution_count": 142,
   "id": "cc7d7341",
   "metadata": {},
   "outputs": [],
   "source": [
    "INSERT('Orders')\n",
    "TABLES('Orders')\n",
    "FK('Orders')"
   ]
  },
  {
   "cell_type": "code",
   "execution_count": 143,
   "id": "5d16de2d",
   "metadata": {
    "scrolled": true
   },
   "outputs": [
    {
     "data": {
      "text/plain": [
       "1000000"
      ]
     },
     "execution_count": 143,
     "metadata": {},
     "output_type": "execute_result"
    }
   ],
   "source": [
    "len(Orders)"
   ]
  },
  {
   "cell_type": "markdown",
   "id": "93ba6844",
   "metadata": {},
   "source": [
    "### Test Definitions (n=130)\n",
    "The patient reference mean and sd for all 26 Tests for 5 Labs for a total of 130 individual instances."
   ]
  },
  {
   "cell_type": "code",
   "execution_count": 16,
   "id": "f03205c7",
   "metadata": {},
   "outputs": [],
   "source": [
    "# Quality Control Test Definitions\n",
    "test_definition_id = np.arange(10000000,10000130,1) \n",
    "\n",
    "panel_id = ['10000000']*10+['10000001']*4+['10000002']*4+['10000003']*5+['10000004']*3\n",
    "panel_id_ = panel_id * 5\n",
    "\n",
    "lab_id = ['100']*26+['101']*26+['102']*26+['103']*26+['104']*26\n",
    "\n",
    "tests = ['SODIUM', 'POTASSIUM', 'BICARBONATE', 'CALCIUM', 'CHLORIDE', 'GLUCOSE',\n",
    "                'PROTEIN','CREATININE', 'GFR', 'UREA NITROGEN',\n",
    "                'AST','ALT', 'GGT', 'ALBUMIN' , \n",
    "                'CHOLESTEROL', 'TRIGLYCERIDE', 'LDL', 'HDL',\n",
    "                'WBC', 'RBC', 'HEMOGLOBIN', 'HEMATOCRIT', 'PLATELET', \n",
    "                'PROTIME', 'APTT', 'INR'] * 5\n",
    "\n",
    "### average analyte value as tracked by laboratory 1\n",
    "mean1 = [140,4,25,9,105,130, #CMP\n",
    "                7,1,60,15,   #CMP cont...\n",
    "                22,24,80,4.2,   #HFT\n",
    "                200,60,80,40,   #LIP\n",
    "                8,4.5,14,42,250,  #CBC\n",
    "                12,16,1.1]   #COAG\n",
    "# analyte_sd = 1% of the mean\n",
    "sd1 = [round(m*0.01,2) for m in mean1]\n",
    "\n",
    "### average analyte value as tracked by laboratory 2    \n",
    "mean2 = np.multiply(mean1,0.99)\n",
    "# analyte_sd = 1% of the mean\n",
    "sd2 = [round(m*0.01,2) for m in mean2]\n",
    "\n",
    "### average analyte value as tracked by laboratory 3    \n",
    "mean3 = np.multiply(mean1,0.97)\n",
    "# analyte_sd = 1% of the mean\n",
    "sd3 = [round(m*0.01,2) for m in mean3]    \n",
    "\n",
    "### average analyte value as tracked by laboratory 4   \n",
    "mean4 = np.multiply(mean1,0.95)\n",
    "# analyte_sd = 1% of the mean\n",
    "sd4 = [round(m*0.01,2) for m in mean4]               \n",
    "               \n",
    "### average analyte value as tracked by laboratory 5   \n",
    "mean5 = np.multiply(mean1,1.02)\n",
    "# analyte_sd = 1% of the mean\n",
    "sd5 = [round(m*0.01,2) for m in mean5]               \n",
    " # collaborate    \n",
    "means = np.r_[mean1,mean2,mean3,mean4,mean5]              \n",
    "\n",
    "sds = sd1+sd2+sd3+sd4+sd5               \n",
    "               \n",
    "# unit of measure is measurement units relative to the ordered test - i.e. mg/dL \n",
    "units = ['mmol/L', 'mmol/L', 'mmol/L', 'mg/dL', 'mmol/L', 'mg/dL',\n",
    "                    'g/dL','mg/dL', 'mmol/L','mg/dL',\n",
    "                    'U/L', 'U/L', 'U/L', 'g/dL', \n",
    "                    'mmol/L', 'mg/dL', 'g/dL', 'U/L', \n",
    "                    'U/L','/mL','g/dL', '%', '/mL', \n",
    "                    'sec', 'sec', 'sec'] * 5\n",
    "\n",
    "\n",
    "mult = [10,4,4,5,3]\n",
    "mult = mult * 5 \n",
    "sn = np.arange(10000000,10000025,1)\n",
    "sn = [str(s) for s in sn] \n",
    "serial_number=[]\n",
    "for m,s in zip(mult,sn):\n",
    "    temp = [s]\n",
    "    temp = temp * m\n",
    "    serial_number.extend(temp)\n",
    "    del temp\n",
    "\n",
    "test_defintions = list(zip(test_definition_id,panel_id_,lab_id, \n",
    "                           tests,means,sds,units,serial_number))"
   ]
  },
  {
   "cell_type": "code",
   "execution_count": 17,
   "id": "7301901f",
   "metadata": {
    "scrolled": true
   },
   "outputs": [
    {
     "data": {
      "text/html": [
       "<div>\n",
       "<style scoped>\n",
       "    .dataframe tbody tr th:only-of-type {\n",
       "        vertical-align: middle;\n",
       "    }\n",
       "\n",
       "    .dataframe tbody tr th {\n",
       "        vertical-align: top;\n",
       "    }\n",
       "\n",
       "    .dataframe thead th {\n",
       "        text-align: right;\n",
       "    }\n",
       "</style>\n",
       "<table border=\"1\" class=\"dataframe\">\n",
       "  <thead>\n",
       "    <tr style=\"text-align: right;\">\n",
       "      <th></th>\n",
       "      <th>test_definition_id</th>\n",
       "      <th>panel_id</th>\n",
       "      <th>lab_id</th>\n",
       "      <th>tests</th>\n",
       "      <th>mean</th>\n",
       "      <th>sd</th>\n",
       "      <th>units</th>\n",
       "      <th>serial_number</th>\n",
       "    </tr>\n",
       "  </thead>\n",
       "  <tbody>\n",
       "    <tr>\n",
       "      <th>0</th>\n",
       "      <td>10000000</td>\n",
       "      <td>10000000</td>\n",
       "      <td>100</td>\n",
       "      <td>SODIUM</td>\n",
       "      <td>140.0</td>\n",
       "      <td>1.40</td>\n",
       "      <td>mmol/L</td>\n",
       "      <td>10000000</td>\n",
       "    </tr>\n",
       "    <tr>\n",
       "      <th>1</th>\n",
       "      <td>10000001</td>\n",
       "      <td>10000000</td>\n",
       "      <td>100</td>\n",
       "      <td>POTASSIUM</td>\n",
       "      <td>4.0</td>\n",
       "      <td>0.04</td>\n",
       "      <td>mmol/L</td>\n",
       "      <td>10000000</td>\n",
       "    </tr>\n",
       "    <tr>\n",
       "      <th>2</th>\n",
       "      <td>10000002</td>\n",
       "      <td>10000000</td>\n",
       "      <td>100</td>\n",
       "      <td>BICARBONATE</td>\n",
       "      <td>25.0</td>\n",
       "      <td>0.25</td>\n",
       "      <td>mmol/L</td>\n",
       "      <td>10000000</td>\n",
       "    </tr>\n",
       "    <tr>\n",
       "      <th>3</th>\n",
       "      <td>10000003</td>\n",
       "      <td>10000000</td>\n",
       "      <td>100</td>\n",
       "      <td>CALCIUM</td>\n",
       "      <td>9.0</td>\n",
       "      <td>0.09</td>\n",
       "      <td>mg/dL</td>\n",
       "      <td>10000000</td>\n",
       "    </tr>\n",
       "    <tr>\n",
       "      <th>4</th>\n",
       "      <td>10000004</td>\n",
       "      <td>10000000</td>\n",
       "      <td>100</td>\n",
       "      <td>CHLORIDE</td>\n",
       "      <td>105.0</td>\n",
       "      <td>1.05</td>\n",
       "      <td>mmol/L</td>\n",
       "      <td>10000000</td>\n",
       "    </tr>\n",
       "  </tbody>\n",
       "</table>\n",
       "</div>"
      ],
      "text/plain": [
       "   test_definition_id  panel_id  lab_id        tests   mean    sd   units  \\\n",
       "0            10000000  10000000     100       SODIUM  140.0  1.40  mmol/L   \n",
       "1            10000001  10000000     100    POTASSIUM    4.0  0.04  mmol/L   \n",
       "2            10000002  10000000     100  BICARBONATE   25.0  0.25  mmol/L   \n",
       "3            10000003  10000000     100      CALCIUM    9.0  0.09   mg/dL   \n",
       "4            10000004  10000000     100     CHLORIDE  105.0  1.05  mmol/L   \n",
       "\n",
       "  serial_number  \n",
       "0      10000000  \n",
       "1      10000000  \n",
       "2      10000000  \n",
       "3      10000000  \n",
       "4      10000000  "
      ]
     },
     "execution_count": 17,
     "metadata": {},
     "output_type": "execute_result"
    }
   ],
   "source": [
    "### CREATE DATAFRAME\n",
    "Test_Definitions = pd.DataFrame(test_defintions ,columns=['test_definition_id', 'panel_id', 'lab_id','tests', \n",
    "                                                      'mean','sd', 'units', 'serial_number'])\n",
    "Test_Definitions.to_csv(csv_+'Test_Definitions.csv', header = None, index = False)\n",
    "Test_Definitions.panel_id = Test_Definitions.panel_id.map(int)\n",
    "Test_Definitions.lab_id = Test_Definitions.lab_id.map(int)\n",
    "Test_Definitions.head()"
   ]
  },
  {
   "cell_type": "code",
   "execution_count": 138,
   "id": "a2d702d6",
   "metadata": {},
   "outputs": [],
   "source": [
    "INSERT('Test_Definitions')\n",
    "TABLES('Test_Definitions')\n",
    "FK('Test_Definitions')"
   ]
  },
  {
   "cell_type": "code",
   "execution_count": 139,
   "id": "0191d064",
   "metadata": {
    "scrolled": false
   },
   "outputs": [
    {
     "data": {
      "text/plain": [
       "26"
      ]
     },
     "execution_count": 139,
     "metadata": {},
     "output_type": "execute_result"
    }
   ],
   "source": [
    "len(Test_Definitions)"
   ]
  },
  {
   "cell_type": "markdown",
   "id": "450b0428",
   "metadata": {},
   "source": [
    "### Samples (n=1000000)\n",
    "- samples.contianer_id is dependent on ordered panel and type of container specific to the order\n",
    "- Create corresponding container_id with `SQL` left join on orders and containers table and use containers.container_id\n",
    "- Create corresponding container_id with `SQL` left join on orders and use orders.customer_id"
   ]
  },
  {
   "cell_type": "code",
   "execution_count": 144,
   "id": "c3c22e27",
   "metadata": {},
   "outputs": [],
   "source": [
    "sample_id = np.arange(10000000,11000000,1)\n",
    "order_id = np.arange(10000000,11000000,1)\n",
    "container_id = [np.nan] * 1000000\n",
    "employee_id = np.arange(10000000,10000100,1)\n",
    "employee_id = random.choices(employee_id, k=1000000)\n",
    "samples = list(zip(sample_id, order_id, container_id, customer_id, employee_id))"
   ]
  },
  {
   "cell_type": "code",
   "execution_count": 145,
   "id": "0092eed1",
   "metadata": {},
   "outputs": [
    {
     "data": {
      "text/html": [
       "<div>\n",
       "<style scoped>\n",
       "    .dataframe tbody tr th:only-of-type {\n",
       "        vertical-align: middle;\n",
       "    }\n",
       "\n",
       "    .dataframe tbody tr th {\n",
       "        vertical-align: top;\n",
       "    }\n",
       "\n",
       "    .dataframe thead th {\n",
       "        text-align: right;\n",
       "    }\n",
       "</style>\n",
       "<table border=\"1\" class=\"dataframe\">\n",
       "  <thead>\n",
       "    <tr style=\"text-align: right;\">\n",
       "      <th></th>\n",
       "      <th>sample_id</th>\n",
       "      <th>order_id</th>\n",
       "      <th>container_id</th>\n",
       "      <th>customer_id</th>\n",
       "      <th>employee_id</th>\n",
       "    </tr>\n",
       "  </thead>\n",
       "  <tbody>\n",
       "    <tr>\n",
       "      <th>0</th>\n",
       "      <td>10000000</td>\n",
       "      <td>10000000</td>\n",
       "      <td>NaN</td>\n",
       "      <td>10006688</td>\n",
       "      <td>10000005</td>\n",
       "    </tr>\n",
       "    <tr>\n",
       "      <th>1</th>\n",
       "      <td>10000001</td>\n",
       "      <td>10000001</td>\n",
       "      <td>NaN</td>\n",
       "      <td>10012117</td>\n",
       "      <td>10000054</td>\n",
       "    </tr>\n",
       "    <tr>\n",
       "      <th>2</th>\n",
       "      <td>10000002</td>\n",
       "      <td>10000002</td>\n",
       "      <td>NaN</td>\n",
       "      <td>10010032</td>\n",
       "      <td>10000017</td>\n",
       "    </tr>\n",
       "    <tr>\n",
       "      <th>3</th>\n",
       "      <td>10000003</td>\n",
       "      <td>10000003</td>\n",
       "      <td>NaN</td>\n",
       "      <td>10019115</td>\n",
       "      <td>10000087</td>\n",
       "    </tr>\n",
       "    <tr>\n",
       "      <th>4</th>\n",
       "      <td>10000004</td>\n",
       "      <td>10000004</td>\n",
       "      <td>NaN</td>\n",
       "      <td>10009420</td>\n",
       "      <td>10000096</td>\n",
       "    </tr>\n",
       "  </tbody>\n",
       "</table>\n",
       "</div>"
      ],
      "text/plain": [
       "   sample_id  order_id  container_id  customer_id  employee_id\n",
       "0   10000000  10000000           NaN     10006688     10000005\n",
       "1   10000001  10000001           NaN     10012117     10000054\n",
       "2   10000002  10000002           NaN     10010032     10000017\n",
       "3   10000003  10000003           NaN     10019115     10000087\n",
       "4   10000004  10000004           NaN     10009420     10000096"
      ]
     },
     "execution_count": 145,
     "metadata": {},
     "output_type": "execute_result"
    }
   ],
   "source": [
    "Samples = pd.DataFrame(samples, columns=['sample_id', 'order_id', 'container_id', \n",
    "                                        'customer_id', 'employee_id'])\n",
    "Samples.to_csv(csv_+'Samples.csv', header = None, index = False)\n",
    "Samples.head()"
   ]
  },
  {
   "cell_type": "code",
   "execution_count": 146,
   "id": "321df1f6",
   "metadata": {},
   "outputs": [],
   "source": [
    "INSERT('Samples')\n",
    "TABLES('Samples')\n",
    "FK('Samples')"
   ]
  },
  {
   "cell_type": "code",
   "execution_count": 147,
   "id": "9e020cf4",
   "metadata": {},
   "outputs": [
    {
     "data": {
      "text/plain": [
       "1000000"
      ]
     },
     "execution_count": 147,
     "metadata": {},
     "output_type": "execute_result"
    }
   ],
   "source": [
    "len(Samples)"
   ]
  },
  {
   "cell_type": "markdown",
   "id": "c91abcaa",
   "metadata": {},
   "source": [
    "### Patient Results\n",
    " - 1 000 000 Patient Results that depend on what test are ordered  \n",
    " - The orders table is left joined with panels table to derive corresponding tests\n",
    " - Similarly, orders table is left joined with analyzers table to derive corresponding analyzer \n",
    " - The resultant two aforementioned joins then allow to correspond a specific mean value for a particular analyzer for a particular test\n",
    " - The latter mentioned mean value is then used within a `SQL Random()`  function to create a mock analyzer result for a particular test."
   ]
  },
  {
   "cell_type": "code",
   "execution_count": 20,
   "id": "402633ab",
   "metadata": {},
   "outputs": [],
   "source": [
    "# Create result for each test within each ordered panel:\n",
    "df = pd.merge(Orders,Test_Definitions, left_on=['panel_id','lab_id'], right_on = ['panel_id','lab_id'])\n",
    "result = [np.random.normal(x,np.multiply(x,0.05)) for x in df['mean'].values]\n",
    "df['result'] = result\n",
    "df['result'] = df['result'].round(2)\n",
    "df['test_result_id'] = test_result_id = np.add(df.index,10000000)\n",
    "Patient_Results = df.loc[:,['test_result_id', 'order_id','test_definition_id','date','time','customer_id',\n",
    "                            'lab_id','panel','tests','result','units']]"
   ]
  },
  {
   "cell_type": "code",
   "execution_count": 21,
   "id": "691b25e2",
   "metadata": {
    "scrolled": false
   },
   "outputs": [
    {
     "data": {
      "text/html": [
       "<div>\n",
       "<style scoped>\n",
       "    .dataframe tbody tr th:only-of-type {\n",
       "        vertical-align: middle;\n",
       "    }\n",
       "\n",
       "    .dataframe tbody tr th {\n",
       "        vertical-align: top;\n",
       "    }\n",
       "\n",
       "    .dataframe thead th {\n",
       "        text-align: right;\n",
       "    }\n",
       "</style>\n",
       "<table border=\"1\" class=\"dataframe\">\n",
       "  <thead>\n",
       "    <tr style=\"text-align: right;\">\n",
       "      <th></th>\n",
       "      <th>test_result_id</th>\n",
       "      <th>order_id</th>\n",
       "      <th>test_definition_id</th>\n",
       "      <th>date</th>\n",
       "      <th>time</th>\n",
       "      <th>customer_id</th>\n",
       "      <th>lab_id</th>\n",
       "      <th>panel</th>\n",
       "      <th>tests</th>\n",
       "      <th>result</th>\n",
       "      <th>units</th>\n",
       "    </tr>\n",
       "  </thead>\n",
       "  <tbody>\n",
       "    <tr>\n",
       "      <th>0</th>\n",
       "      <td>10000000</td>\n",
       "      <td>10000000</td>\n",
       "      <td>10000088</td>\n",
       "      <td>01/01/2021</td>\n",
       "      <td>00:00:00</td>\n",
       "      <td>10024734</td>\n",
       "      <td>103</td>\n",
       "      <td>HFT</td>\n",
       "      <td>AST</td>\n",
       "      <td>23.40</td>\n",
       "      <td>U/L</td>\n",
       "    </tr>\n",
       "    <tr>\n",
       "      <th>1</th>\n",
       "      <td>10000001</td>\n",
       "      <td>10000000</td>\n",
       "      <td>10000089</td>\n",
       "      <td>01/01/2021</td>\n",
       "      <td>00:00:00</td>\n",
       "      <td>10024734</td>\n",
       "      <td>103</td>\n",
       "      <td>HFT</td>\n",
       "      <td>ALT</td>\n",
       "      <td>22.57</td>\n",
       "      <td>U/L</td>\n",
       "    </tr>\n",
       "    <tr>\n",
       "      <th>2</th>\n",
       "      <td>10000002</td>\n",
       "      <td>10000000</td>\n",
       "      <td>10000090</td>\n",
       "      <td>01/01/2021</td>\n",
       "      <td>00:00:00</td>\n",
       "      <td>10024734</td>\n",
       "      <td>103</td>\n",
       "      <td>HFT</td>\n",
       "      <td>GGT</td>\n",
       "      <td>76.20</td>\n",
       "      <td>U/L</td>\n",
       "    </tr>\n",
       "    <tr>\n",
       "      <th>3</th>\n",
       "      <td>10000003</td>\n",
       "      <td>10000000</td>\n",
       "      <td>10000091</td>\n",
       "      <td>01/01/2021</td>\n",
       "      <td>00:00:00</td>\n",
       "      <td>10024734</td>\n",
       "      <td>103</td>\n",
       "      <td>HFT</td>\n",
       "      <td>ALBUMIN</td>\n",
       "      <td>3.84</td>\n",
       "      <td>g/dL</td>\n",
       "    </tr>\n",
       "    <tr>\n",
       "      <th>4</th>\n",
       "      <td>10000004</td>\n",
       "      <td>10000007</td>\n",
       "      <td>10000088</td>\n",
       "      <td>01/01/2021</td>\n",
       "      <td>00:03:40</td>\n",
       "      <td>10004719</td>\n",
       "      <td>103</td>\n",
       "      <td>HFT</td>\n",
       "      <td>AST</td>\n",
       "      <td>20.78</td>\n",
       "      <td>U/L</td>\n",
       "    </tr>\n",
       "  </tbody>\n",
       "</table>\n",
       "</div>"
      ],
      "text/plain": [
       "   test_result_id  order_id  test_definition_id        date      time  \\\n",
       "0        10000000  10000000            10000088  01/01/2021  00:00:00   \n",
       "1        10000001  10000000            10000089  01/01/2021  00:00:00   \n",
       "2        10000002  10000000            10000090  01/01/2021  00:00:00   \n",
       "3        10000003  10000000            10000091  01/01/2021  00:00:00   \n",
       "4        10000004  10000007            10000088  01/01/2021  00:03:40   \n",
       "\n",
       "   customer_id  lab_id panel    tests  result units  \n",
       "0     10024734     103   HFT      AST   23.40   U/L  \n",
       "1     10024734     103   HFT      ALT   22.57   U/L  \n",
       "2     10024734     103   HFT      GGT   76.20   U/L  \n",
       "3     10024734     103   HFT  ALBUMIN    3.84  g/dL  \n",
       "4     10004719     103   HFT      AST   20.78   U/L  "
      ]
     },
     "execution_count": 21,
     "metadata": {},
     "output_type": "execute_result"
    }
   ],
   "source": [
    "Patient_Results.to_csv(csv_+'Patient_Results.csv', header = None, index = False)\n",
    "Patient_Results.head()"
   ]
  },
  {
   "cell_type": "code",
   "execution_count": 150,
   "id": "2c2d5d2a",
   "metadata": {},
   "outputs": [],
   "source": [
    "INSERT('Patient_Results')\n",
    "TABLES('Patient_Results')\n",
    "FK('Patient_Results')"
   ]
  },
  {
   "cell_type": "code",
   "execution_count": 151,
   "id": "e0efffad",
   "metadata": {
    "scrolled": true
   },
   "outputs": [
    {
     "data": {
      "text/plain": [
       "1000000"
      ]
     },
     "execution_count": 151,
     "metadata": {},
     "output_type": "execute_result"
    }
   ],
   "source": [
    "len(Patient_Results)"
   ]
  },
  {
   "cell_type": "markdown",
   "id": "2aba50c7",
   "metadata": {},
   "source": [
    "#### Verifying the total number of testing with all ordered panels:"
   ]
  },
  {
   "cell_type": "code",
   "execution_count": 244,
   "id": "4cc1c3db",
   "metadata": {},
   "outputs": [
    {
     "data": {
      "text/plain": [
       "5598358"
      ]
     },
     "execution_count": 244,
     "metadata": {},
     "output_type": "execute_result"
    }
   ],
   "source": [
    "#'CMP','HFT','LIP','CBC','COAG'\n",
    "total = []\n",
    "for panel in Orders.panel.values:\n",
    "    if panel == 'CMP':\n",
    "        total.append(10)\n",
    "    if panel == 'HFT':\n",
    "        total.append(4)\n",
    "    if panel == 'LIP':\n",
    "        total.append(4)\n",
    "    if panel == 'CBC':\n",
    "        total.append(5)\n",
    "    if panel == 'COAG':\n",
    "        total.append(3)\n",
    "sum(total)"
   ]
  },
  {
   "cell_type": "markdown",
   "id": "088f45c5",
   "metadata": {},
   "source": [
    "## End of Section 2"
   ]
  },
  {
   "cell_type": "code",
   "execution_count": 152,
   "id": "d49c834f",
   "metadata": {
    "scrolled": true
   },
   "outputs": [
    {
     "name": "stdout",
     "output_type": "stream",
     "text": [
      "The End\n"
     ]
    }
   ],
   "source": [
    "print(\"The End\")"
   ]
  }
 ],
 "metadata": {
  "kernelspec": {
   "display_name": "Python 3 (ipykernel)",
   "language": "python",
   "name": "python3"
  },
  "language_info": {
   "codemirror_mode": {
    "name": "ipython",
    "version": 3
   },
   "file_extension": ".py",
   "mimetype": "text/x-python",
   "name": "python",
   "nbconvert_exporter": "python",
   "pygments_lexer": "ipython3",
   "version": "3.9.7"
  }
 },
 "nbformat": 4,
 "nbformat_minor": 5
}
